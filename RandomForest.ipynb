{
 "cells": [
  {
   "cell_type": "markdown",
   "metadata": {},
   "source": [
    "Predicting the popularity of a product.\n",
    "Least popular can be discontinued"
   ]
  },
  {
   "cell_type": "code",
   "execution_count": 3,
   "metadata": {},
   "outputs": [],
   "source": [
    "import pandas as pd\n",
    "import matplotlib.pyplot as plt\n",
    "import numpy as np\n",
    "import os\n",
    "import seaborn as sns\n",
    "from glob import glob\n",
    "sns.set()\n",
    "from imblearn.over_sampling import RandomOverSampler\n",
    "from sklearn.preprocessing import OneHotEncoder,MinMaxScaler\n",
    "from sklearn.preprocessing import LabelEncoder\n",
    "from sklearn.pipeline import make_pipeline\n",
    "from sklearn.tree import DecisionTreeClassifier\n",
    "from sklearn.ensemble import RandomForestClassifier, GradientBoostingClassifier\n",
    "from sklearn.model_selection import GridSearchCV,train_test_split\n",
    "from sklearn.metrics import confusion_matrix,ConfusionMatrixDisplay,roc_curve,roc_auc_score\n",
    "from sklearn import set_config\n",
    "set_config(display = \"diagram\")  \n"
   ]
  },
  {
   "cell_type": "code",
   "execution_count": 4,
   "metadata": {},
   "outputs": [],
   "source": [
    "#set the file directory\n",
    "os.chdir('C:/Users/vetri/OneDrive/Documents/UArizonaEller/Coursework/Fall 2023/MIS545/Project/SalesData')"
   ]
  },
  {
   "cell_type": "code",
   "execution_count": 5,
   "metadata": {},
   "outputs": [],
   "source": [
    "#read the dataset to dataframe\n",
    "amazonSaleRepDF = pd.read_excel('Amazon Sale Report.xlsx',sheet_name='Amazon')"
   ]
  },
  {
   "cell_type": "code",
   "execution_count": 15,
   "metadata": {},
   "outputs": [],
   "source": [
    "######## Do not run######\n",
    "#map the sheet names to dataframes\n",
    "amazonSaleRepDF = {sheet_name: amazonSaleRepXL.parse(sheet_name) \n",
    "          for sheet_name in amazonSaleRepXL.sheet_names}"
   ]
  },
  {
   "cell_type": "code",
   "execution_count": 6,
   "metadata": {},
   "outputs": [
    {
     "data": {
      "text/html": [
       "<div>\n",
       "<style scoped>\n",
       "    .dataframe tbody tr th:only-of-type {\n",
       "        vertical-align: middle;\n",
       "    }\n",
       "\n",
       "    .dataframe tbody tr th {\n",
       "        vertical-align: top;\n",
       "    }\n",
       "\n",
       "    .dataframe thead th {\n",
       "        text-align: right;\n",
       "    }\n",
       "</style>\n",
       "<table border=\"1\" class=\"dataframe\">\n",
       "  <thead>\n",
       "    <tr style=\"text-align: right;\">\n",
       "      <th></th>\n",
       "      <th>Date</th>\n",
       "      <th>Qty</th>\n",
       "      <th>Amount</th>\n",
       "      <th>ship-postal-code</th>\n",
       "      <th>Unnamed: 22</th>\n",
       "    </tr>\n",
       "  </thead>\n",
       "  <tbody>\n",
       "    <tr>\n",
       "      <th>count</th>\n",
       "      <td>128975</td>\n",
       "      <td>128975.000000</td>\n",
       "      <td>121180.000000</td>\n",
       "      <td>128942.000000</td>\n",
       "      <td>79925.0</td>\n",
       "    </tr>\n",
       "    <tr>\n",
       "      <th>mean</th>\n",
       "      <td>2022-05-12 11:49:27.951928576</td>\n",
       "      <td>0.904431</td>\n",
       "      <td>648.561465</td>\n",
       "      <td>463966.236509</td>\n",
       "      <td>0.0</td>\n",
       "    </tr>\n",
       "    <tr>\n",
       "      <th>min</th>\n",
       "      <td>2022-03-31 00:00:00</td>\n",
       "      <td>0.000000</td>\n",
       "      <td>0.000000</td>\n",
       "      <td>110001.000000</td>\n",
       "      <td>0.0</td>\n",
       "    </tr>\n",
       "    <tr>\n",
       "      <th>25%</th>\n",
       "      <td>2022-04-20 00:00:00</td>\n",
       "      <td>1.000000</td>\n",
       "      <td>449.000000</td>\n",
       "      <td>382421.000000</td>\n",
       "      <td>0.0</td>\n",
       "    </tr>\n",
       "    <tr>\n",
       "      <th>50%</th>\n",
       "      <td>2022-05-10 00:00:00</td>\n",
       "      <td>1.000000</td>\n",
       "      <td>605.000000</td>\n",
       "      <td>500033.000000</td>\n",
       "      <td>0.0</td>\n",
       "    </tr>\n",
       "    <tr>\n",
       "      <th>75%</th>\n",
       "      <td>2022-06-04 00:00:00</td>\n",
       "      <td>1.000000</td>\n",
       "      <td>788.000000</td>\n",
       "      <td>600024.000000</td>\n",
       "      <td>0.0</td>\n",
       "    </tr>\n",
       "    <tr>\n",
       "      <th>max</th>\n",
       "      <td>2022-06-29 00:00:00</td>\n",
       "      <td>15.000000</td>\n",
       "      <td>5584.000000</td>\n",
       "      <td>989898.000000</td>\n",
       "      <td>0.0</td>\n",
       "    </tr>\n",
       "    <tr>\n",
       "      <th>std</th>\n",
       "      <td>NaN</td>\n",
       "      <td>0.313354</td>\n",
       "      <td>281.211687</td>\n",
       "      <td>191476.764941</td>\n",
       "      <td>0.0</td>\n",
       "    </tr>\n",
       "  </tbody>\n",
       "</table>\n",
       "</div>"
      ],
      "text/plain": [
       "                                Date            Qty         Amount  \\\n",
       "count                         128975  128975.000000  121180.000000   \n",
       "mean   2022-05-12 11:49:27.951928576       0.904431     648.561465   \n",
       "min              2022-03-31 00:00:00       0.000000       0.000000   \n",
       "25%              2022-04-20 00:00:00       1.000000     449.000000   \n",
       "50%              2022-05-10 00:00:00       1.000000     605.000000   \n",
       "75%              2022-06-04 00:00:00       1.000000     788.000000   \n",
       "max              2022-06-29 00:00:00      15.000000    5584.000000   \n",
       "std                              NaN       0.313354     281.211687   \n",
       "\n",
       "       ship-postal-code  Unnamed: 22  \n",
       "count     128942.000000      79925.0  \n",
       "mean      463966.236509          0.0  \n",
       "min       110001.000000          0.0  \n",
       "25%       382421.000000          0.0  \n",
       "50%       500033.000000          0.0  \n",
       "75%       600024.000000          0.0  \n",
       "max       989898.000000          0.0  \n",
       "std       191476.764941          0.0  "
      ]
     },
     "execution_count": 6,
     "metadata": {},
     "output_type": "execute_result"
    }
   ],
   "source": [
    "#Display summary statistics\n",
    "amazonSaleRepDF.describe()"
   ]
  },
  {
   "cell_type": "code",
   "execution_count": 7,
   "metadata": {},
   "outputs": [
    {
     "name": "stdout",
     "output_type": "stream",
     "text": [
      "<class 'pandas.core.frame.DataFrame'>\n",
      "RangeIndex: 128975 entries, 0 to 128974\n",
      "Data columns (total 23 columns):\n",
      " #   Column              Non-Null Count   Dtype         \n",
      "---  ------              --------------   -----         \n",
      " 0   Order ID            128975 non-null  object        \n",
      " 1   Date                128975 non-null  datetime64[ns]\n",
      " 2   Status              128975 non-null  object        \n",
      " 3   Fulfilment          128975 non-null  object        \n",
      " 4   Sales Channel       128975 non-null  object        \n",
      " 5   ship-service-level  128975 non-null  object        \n",
      " 6   Style               128975 non-null  object        \n",
      " 7   SKU                 128975 non-null  object        \n",
      " 8   Category            128975 non-null  object        \n",
      " 9   Size                128975 non-null  object        \n",
      " 10  ASIN                128975 non-null  object        \n",
      " 11  Courier Status      122103 non-null  object        \n",
      " 12  Qty                 128975 non-null  int64         \n",
      " 13  currency            121180 non-null  object        \n",
      " 14  Amount              121180 non-null  float64       \n",
      " 15  ship-city           128942 non-null  object        \n",
      " 16  ship-state          128942 non-null  object        \n",
      " 17  ship-postal-code    128942 non-null  float64       \n",
      " 18  ship-country        128942 non-null  object        \n",
      " 19  promotion-ids       79822 non-null   object        \n",
      " 20  B2B                 128975 non-null  bool          \n",
      " 21  fulfilled-by        39277 non-null   object        \n",
      " 22  Unnamed: 22         79925 non-null   float64       \n",
      "dtypes: bool(1), datetime64[ns](1), float64(3), int64(1), object(17)\n",
      "memory usage: 21.8+ MB\n"
     ]
    }
   ],
   "source": [
    "#Display the structure\n",
    "amazonSaleRepDF.info()"
   ]
  },
  {
   "cell_type": "code",
   "execution_count": 8,
   "metadata": {},
   "outputs": [
    {
     "data": {
      "text/plain": [
       "['Order ID',\n",
       " 'Date',\n",
       " 'Status',\n",
       " 'Fulfilment',\n",
       " 'Sales Channel ',\n",
       " 'ship-service-level',\n",
       " 'Style',\n",
       " 'SKU',\n",
       " 'Category',\n",
       " 'Size',\n",
       " 'ASIN',\n",
       " 'Courier Status',\n",
       " 'Qty',\n",
       " 'currency',\n",
       " 'Amount',\n",
       " 'ship-city',\n",
       " 'ship-state',\n",
       " 'ship-postal-code',\n",
       " 'ship-country',\n",
       " 'promotion-ids',\n",
       " 'B2B',\n",
       " 'fulfilled-by',\n",
       " 'Unnamed: 22']"
      ]
     },
     "execution_count": 8,
     "metadata": {},
     "output_type": "execute_result"
    }
   ],
   "source": [
    "#print column names as list\n",
    "amazonSaleRepDF.columns.tolist()"
   ]
  },
  {
   "cell_type": "markdown",
   "metadata": {},
   "source": [
    "orderid,date, status(remove 'cancelled orders'), style,qty,"
   ]
  },
  {
   "cell_type": "markdown",
   "metadata": {},
   "source": [
    "DATA CLEANING (Exploratory Data Analysis)"
   ]
  },
  {
   "cell_type": "code",
   "execution_count": 9,
   "metadata": {},
   "outputs": [],
   "source": [
    "#remove spaces and special characters from column names\n",
    "amazonSaleRepDF.columns = amazonSaleRepDF.columns.str.replace('_', '').str.replace('-','').str.replace(' ','')\n"
   ]
  },
  {
   "cell_type": "code",
   "execution_count": 10,
   "metadata": {},
   "outputs": [
    {
     "name": "stdout",
     "output_type": "stream",
     "text": [
      "['orderid', 'date', 'status', 'fulfilment', 'saleschannel', 'shipservicelevel', 'style', 'sku', 'category', 'size', 'asin', 'courierstatus', 'qty', 'currency', 'amount', 'shipcity', 'shipstate', 'shippostalcode', 'shipcountry', 'promotionids', 'b2b', 'fulfilledby', 'unnamed:22']\n"
     ]
    }
   ],
   "source": [
    "#change the column names to lower case\n",
    "amazonSaleRepDF.columns = map(str.lower, amazonSaleRepDF.columns)\n",
    "print(amazonSaleRepDF.columns.tolist())"
   ]
  },
  {
   "cell_type": "code",
   "execution_count": 11,
   "metadata": {},
   "outputs": [],
   "source": [
    "#removing unwanted columns\n",
    "# amazonSaleRepDF.drop([\"date\",\"fulfilledby\",\"currency\",\"unnamed:22\",\"promotionids\",\"courierstatus\",\n",
    "#              \"shipcountry\"],axis =\"columns\", inplace = True)\n",
    "\n",
    "#keep the selected columns and drop the rest in the data frame\n",
    "amazonSaleRepDF1 = amazonSaleRepDF[['orderid','status','style','date','qty','sku']]"
   ]
  },
  {
   "cell_type": "code",
   "execution_count": 12,
   "metadata": {},
   "outputs": [
    {
     "data": {
      "text/html": [
       "<div>\n",
       "<style scoped>\n",
       "    .dataframe tbody tr th:only-of-type {\n",
       "        vertical-align: middle;\n",
       "    }\n",
       "\n",
       "    .dataframe tbody tr th {\n",
       "        vertical-align: top;\n",
       "    }\n",
       "\n",
       "    .dataframe thead th {\n",
       "        text-align: right;\n",
       "    }\n",
       "</style>\n",
       "<table border=\"1\" class=\"dataframe\">\n",
       "  <thead>\n",
       "    <tr style=\"text-align: right;\">\n",
       "      <th></th>\n",
       "      <th>orderid</th>\n",
       "      <th>status</th>\n",
       "      <th>style</th>\n",
       "      <th>date</th>\n",
       "      <th>qty</th>\n",
       "      <th>sku</th>\n",
       "    </tr>\n",
       "  </thead>\n",
       "  <tbody>\n",
       "    <tr>\n",
       "      <th>0</th>\n",
       "      <td>405-8078784-5731545</td>\n",
       "      <td>Cancelled</td>\n",
       "      <td>SET389</td>\n",
       "      <td>2022-04-30</td>\n",
       "      <td>0</td>\n",
       "      <td>SET389-KR-NP-S</td>\n",
       "    </tr>\n",
       "    <tr>\n",
       "      <th>1</th>\n",
       "      <td>171-9198151-1101146</td>\n",
       "      <td>Shipped - Delivered to Buyer</td>\n",
       "      <td>JNE3781</td>\n",
       "      <td>2022-04-30</td>\n",
       "      <td>1</td>\n",
       "      <td>JNE3781-KR-XXXL</td>\n",
       "    </tr>\n",
       "    <tr>\n",
       "      <th>2</th>\n",
       "      <td>404-0687676-7273146</td>\n",
       "      <td>Shipped</td>\n",
       "      <td>JNE3371</td>\n",
       "      <td>2022-04-30</td>\n",
       "      <td>1</td>\n",
       "      <td>JNE3371-KR-XL</td>\n",
       "    </tr>\n",
       "    <tr>\n",
       "      <th>3</th>\n",
       "      <td>403-9615377-8133951</td>\n",
       "      <td>Cancelled</td>\n",
       "      <td>J0341</td>\n",
       "      <td>2022-04-30</td>\n",
       "      <td>0</td>\n",
       "      <td>J0341-DR-L</td>\n",
       "    </tr>\n",
       "    <tr>\n",
       "      <th>4</th>\n",
       "      <td>407-1069790-7240320</td>\n",
       "      <td>Shipped</td>\n",
       "      <td>JNE3671</td>\n",
       "      <td>2022-04-30</td>\n",
       "      <td>1</td>\n",
       "      <td>JNE3671-TU-XXXL</td>\n",
       "    </tr>\n",
       "  </tbody>\n",
       "</table>\n",
       "</div>"
      ],
      "text/plain": [
       "               orderid                        status    style       date  qty  \\\n",
       "0  405-8078784-5731545                     Cancelled   SET389 2022-04-30    0   \n",
       "1  171-9198151-1101146  Shipped - Delivered to Buyer  JNE3781 2022-04-30    1   \n",
       "2  404-0687676-7273146                       Shipped  JNE3371 2022-04-30    1   \n",
       "3  403-9615377-8133951                     Cancelled    J0341 2022-04-30    0   \n",
       "4  407-1069790-7240320                       Shipped  JNE3671 2022-04-30    1   \n",
       "\n",
       "               sku  \n",
       "0   SET389-KR-NP-S  \n",
       "1  JNE3781-KR-XXXL  \n",
       "2    JNE3371-KR-XL  \n",
       "3       J0341-DR-L  \n",
       "4  JNE3671-TU-XXXL  "
      ]
     },
     "execution_count": 12,
     "metadata": {},
     "output_type": "execute_result"
    }
   ],
   "source": [
    "#head of the dataframe\n",
    "amazonSaleRepDF1.head()"
   ]
  },
  {
   "cell_type": "code",
   "execution_count": 13,
   "metadata": {},
   "outputs": [],
   "source": [
    "#remove rows with status as cancelled\n",
    "amazonSaleRepDF1 = amazonSaleRepDF1[amazonSaleRepDF1.status != 'Cancelled']"
   ]
  },
  {
   "cell_type": "code",
   "execution_count": 14,
   "metadata": {},
   "outputs": [
    {
     "data": {
      "text/html": [
       "<div>\n",
       "<style scoped>\n",
       "    .dataframe tbody tr th:only-of-type {\n",
       "        vertical-align: middle;\n",
       "    }\n",
       "\n",
       "    .dataframe tbody tr th {\n",
       "        vertical-align: top;\n",
       "    }\n",
       "\n",
       "    .dataframe thead th {\n",
       "        text-align: right;\n",
       "    }\n",
       "</style>\n",
       "<table border=\"1\" class=\"dataframe\">\n",
       "  <thead>\n",
       "    <tr style=\"text-align: right;\">\n",
       "      <th></th>\n",
       "      <th>orderid</th>\n",
       "      <th>status</th>\n",
       "      <th>style</th>\n",
       "      <th>date</th>\n",
       "      <th>qty</th>\n",
       "      <th>sku</th>\n",
       "    </tr>\n",
       "  </thead>\n",
       "  <tbody>\n",
       "    <tr>\n",
       "      <th>1</th>\n",
       "      <td>171-9198151-1101146</td>\n",
       "      <td>Shipped - Delivered to Buyer</td>\n",
       "      <td>JNE3781</td>\n",
       "      <td>2022-04-30</td>\n",
       "      <td>1</td>\n",
       "      <td>JNE3781-KR-XXXL</td>\n",
       "    </tr>\n",
       "    <tr>\n",
       "      <th>2</th>\n",
       "      <td>404-0687676-7273146</td>\n",
       "      <td>Shipped</td>\n",
       "      <td>JNE3371</td>\n",
       "      <td>2022-04-30</td>\n",
       "      <td>1</td>\n",
       "      <td>JNE3371-KR-XL</td>\n",
       "    </tr>\n",
       "    <tr>\n",
       "      <th>4</th>\n",
       "      <td>407-1069790-7240320</td>\n",
       "      <td>Shipped</td>\n",
       "      <td>JNE3671</td>\n",
       "      <td>2022-04-30</td>\n",
       "      <td>1</td>\n",
       "      <td>JNE3671-TU-XXXL</td>\n",
       "    </tr>\n",
       "    <tr>\n",
       "      <th>5</th>\n",
       "      <td>404-1490984-4578765</td>\n",
       "      <td>Shipped</td>\n",
       "      <td>SET264</td>\n",
       "      <td>2022-04-30</td>\n",
       "      <td>1</td>\n",
       "      <td>SET264-KR-NP-XL</td>\n",
       "    </tr>\n",
       "    <tr>\n",
       "      <th>6</th>\n",
       "      <td>408-5748499-6859555</td>\n",
       "      <td>Shipped</td>\n",
       "      <td>J0095</td>\n",
       "      <td>2022-04-30</td>\n",
       "      <td>1</td>\n",
       "      <td>J0095-SET-L</td>\n",
       "    </tr>\n",
       "  </tbody>\n",
       "</table>\n",
       "</div>"
      ],
      "text/plain": [
       "               orderid                        status    style       date  qty  \\\n",
       "1  171-9198151-1101146  Shipped - Delivered to Buyer  JNE3781 2022-04-30    1   \n",
       "2  404-0687676-7273146                       Shipped  JNE3371 2022-04-30    1   \n",
       "4  407-1069790-7240320                       Shipped  JNE3671 2022-04-30    1   \n",
       "5  404-1490984-4578765                       Shipped   SET264 2022-04-30    1   \n",
       "6  408-5748499-6859555                       Shipped    J0095 2022-04-30    1   \n",
       "\n",
       "               sku  \n",
       "1  JNE3781-KR-XXXL  \n",
       "2    JNE3371-KR-XL  \n",
       "4  JNE3671-TU-XXXL  \n",
       "5  SET264-KR-NP-XL  \n",
       "6      J0095-SET-L  "
      ]
     },
     "execution_count": 14,
     "metadata": {},
     "output_type": "execute_result"
    }
   ],
   "source": [
    "#print 5 rows of the dataframe\n",
    "amazonSaleRepDF1.head()"
   ]
  },
  {
   "cell_type": "code",
   "execution_count": 15,
   "metadata": {},
   "outputs": [
    {
     "data": {
      "text/plain": [
       "orderid    0\n",
       "status     0\n",
       "style      0\n",
       "date       0\n",
       "qty        0\n",
       "sku        0\n",
       "dtype: int64"
      ]
     },
     "execution_count": 15,
     "metadata": {},
     "output_type": "execute_result"
    }
   ],
   "source": [
    "#check for null values\n",
    "amazonSaleRepDF1.isnull().sum()"
   ]
  },
  {
   "cell_type": "code",
   "execution_count": 50,
   "metadata": {},
   "outputs": [],
   "source": [
    "######## Do not run######\n",
    "#replace null values with unknown in the column shipcity and shipstate\n",
    "# amazonSaleRepDF['shipcity'].fillna('Unknown', inplace=True)\n",
    "# amazonSaleRepDF['shipstate'].fillna('Unknown', inplace=True)"
   ]
  },
  {
   "cell_type": "code",
   "execution_count": 18,
   "metadata": {},
   "outputs": [],
   "source": [
    "# drop duplicates if any\n",
    "amazonSaleRepDF1.drop_duplicates(inplace=True)"
   ]
  },
  {
   "cell_type": "code",
   "execution_count": 17,
   "metadata": {},
   "outputs": [
    {
     "data": {
      "text/html": [
       "<div>\n",
       "<style scoped>\n",
       "    .dataframe tbody tr th:only-of-type {\n",
       "        vertical-align: middle;\n",
       "    }\n",
       "\n",
       "    .dataframe tbody tr th {\n",
       "        vertical-align: top;\n",
       "    }\n",
       "\n",
       "    .dataframe thead th {\n",
       "        text-align: right;\n",
       "    }\n",
       "</style>\n",
       "<table border=\"1\" class=\"dataframe\">\n",
       "  <thead>\n",
       "    <tr style=\"text-align: right;\">\n",
       "      <th></th>\n",
       "      <th>orderid</th>\n",
       "      <th>status</th>\n",
       "      <th>style</th>\n",
       "      <th>date</th>\n",
       "      <th>qty</th>\n",
       "      <th>sku</th>\n",
       "    </tr>\n",
       "  </thead>\n",
       "  <tbody>\n",
       "    <tr>\n",
       "      <th>1</th>\n",
       "      <td>171-9198151-1101146</td>\n",
       "      <td>Shipped - Delivered to Buyer</td>\n",
       "      <td>JNE3781</td>\n",
       "      <td>2022-04-30</td>\n",
       "      <td>1</td>\n",
       "      <td>JNE3781-KR-XXXL</td>\n",
       "    </tr>\n",
       "    <tr>\n",
       "      <th>2</th>\n",
       "      <td>404-0687676-7273146</td>\n",
       "      <td>Shipped</td>\n",
       "      <td>JNE3371</td>\n",
       "      <td>2022-04-30</td>\n",
       "      <td>1</td>\n",
       "      <td>JNE3371-KR-XL</td>\n",
       "    </tr>\n",
       "    <tr>\n",
       "      <th>4</th>\n",
       "      <td>407-1069790-7240320</td>\n",
       "      <td>Shipped</td>\n",
       "      <td>JNE3671</td>\n",
       "      <td>2022-04-30</td>\n",
       "      <td>1</td>\n",
       "      <td>JNE3671-TU-XXXL</td>\n",
       "    </tr>\n",
       "    <tr>\n",
       "      <th>5</th>\n",
       "      <td>404-1490984-4578765</td>\n",
       "      <td>Shipped</td>\n",
       "      <td>SET264</td>\n",
       "      <td>2022-04-30</td>\n",
       "      <td>1</td>\n",
       "      <td>SET264-KR-NP-XL</td>\n",
       "    </tr>\n",
       "    <tr>\n",
       "      <th>6</th>\n",
       "      <td>408-5748499-6859555</td>\n",
       "      <td>Shipped</td>\n",
       "      <td>J0095</td>\n",
       "      <td>2022-04-30</td>\n",
       "      <td>1</td>\n",
       "      <td>J0095-SET-L</td>\n",
       "    </tr>\n",
       "  </tbody>\n",
       "</table>\n",
       "</div>"
      ],
      "text/plain": [
       "               orderid                        status    style       date  qty  \\\n",
       "1  171-9198151-1101146  Shipped - Delivered to Buyer  JNE3781 2022-04-30    1   \n",
       "2  404-0687676-7273146                       Shipped  JNE3371 2022-04-30    1   \n",
       "4  407-1069790-7240320                       Shipped  JNE3671 2022-04-30    1   \n",
       "5  404-1490984-4578765                       Shipped   SET264 2022-04-30    1   \n",
       "6  408-5748499-6859555                       Shipped    J0095 2022-04-30    1   \n",
       "\n",
       "               sku  \n",
       "1  JNE3781-KR-XXXL  \n",
       "2    JNE3371-KR-XL  \n",
       "4  JNE3671-TU-XXXL  \n",
       "5  SET264-KR-NP-XL  \n",
       "6      J0095-SET-L  "
      ]
     },
     "execution_count": 17,
     "metadata": {},
     "output_type": "execute_result"
    }
   ],
   "source": [
    "amazonSaleRepDF1.head()"
   ]
  },
  {
   "cell_type": "code",
   "execution_count": 19,
   "metadata": {},
   "outputs": [
    {
     "name": "stdout",
     "output_type": "stream",
     "text": [
      "<class 'pandas.core.frame.DataFrame'>\n",
      "Index: 110640 entries, 1 to 128974\n",
      "Data columns (total 6 columns):\n",
      " #   Column   Non-Null Count   Dtype         \n",
      "---  ------   --------------   -----         \n",
      " 0   orderid  110640 non-null  object        \n",
      " 1   status   110640 non-null  object        \n",
      " 2   style    110640 non-null  object        \n",
      " 3   date     110640 non-null  datetime64[ns]\n",
      " 4   qty      110640 non-null  int64         \n",
      " 5   sku      110640 non-null  object        \n",
      "dtypes: datetime64[ns](1), int64(1), object(4)\n",
      "memory usage: 5.9+ MB\n"
     ]
    }
   ],
   "source": [
    "amazonSaleRepDF1.info()"
   ]
  },
  {
   "cell_type": "code",
   "execution_count": 20,
   "metadata": {},
   "outputs": [
    {
     "data": {
      "text/plain": [
       "['orderid', 'status', 'style', 'date', 'qty', 'sku']"
      ]
     },
     "execution_count": 20,
     "metadata": {},
     "output_type": "execute_result"
    }
   ],
   "source": [
    "amazonSaleRepDF1.columns.tolist()"
   ]
  },
  {
   "cell_type": "code",
   "execution_count": 21,
   "metadata": {},
   "outputs": [],
   "source": [
    "#dataframe of repeated orderid & sku and store it in repeatedOrderDF\n",
    "repeatedOrderDF = amazonSaleRepDF[amazonSaleRepDF.duplicated(['orderid','sku'],keep=False)]"
   ]
  },
  {
   "cell_type": "code",
   "execution_count": 95,
   "metadata": {},
   "outputs": [
    {
     "data": {
      "text/html": [
       "<div>\n",
       "<style scoped>\n",
       "    .dataframe tbody tr th:only-of-type {\n",
       "        vertical-align: middle;\n",
       "    }\n",
       "\n",
       "    .dataframe tbody tr th {\n",
       "        vertical-align: top;\n",
       "    }\n",
       "\n",
       "    .dataframe thead th {\n",
       "        text-align: right;\n",
       "    }\n",
       "</style>\n",
       "<table border=\"1\" class=\"dataframe\">\n",
       "  <thead>\n",
       "    <tr style=\"text-align: right;\">\n",
       "      <th></th>\n",
       "      <th>orderid</th>\n",
       "      <th>date</th>\n",
       "      <th>status</th>\n",
       "      <th>fulfilment</th>\n",
       "      <th>saleschannel</th>\n",
       "      <th>shipservicelevel</th>\n",
       "      <th>style</th>\n",
       "      <th>sku</th>\n",
       "      <th>category</th>\n",
       "      <th>size</th>\n",
       "      <th>...</th>\n",
       "      <th>currency</th>\n",
       "      <th>amount</th>\n",
       "      <th>shipcity</th>\n",
       "      <th>shipstate</th>\n",
       "      <th>shippostalcode</th>\n",
       "      <th>shipcountry</th>\n",
       "      <th>promotionids</th>\n",
       "      <th>b2b</th>\n",
       "      <th>fulfilledby</th>\n",
       "      <th>unnamed:22</th>\n",
       "    </tr>\n",
       "  </thead>\n",
       "  <tbody>\n",
       "    <tr>\n",
       "      <th>52330</th>\n",
       "      <td>407-8364731-6449117</td>\n",
       "      <td>2022-05-29</td>\n",
       "      <td>Shipped</td>\n",
       "      <td>Amazon</td>\n",
       "      <td>Amazon.in</td>\n",
       "      <td>Expedited</td>\n",
       "      <td>JNE3769</td>\n",
       "      <td>JNE3769-KR-L</td>\n",
       "      <td>kurta</td>\n",
       "      <td>L</td>\n",
       "      <td>...</td>\n",
       "      <td>NaN</td>\n",
       "      <td>NaN</td>\n",
       "      <td>Theni</td>\n",
       "      <td>TAMIL NADU</td>\n",
       "      <td>625579.0</td>\n",
       "      <td>IN</td>\n",
       "      <td>IN Core Free Shipping 2015/04/08 23-48-5-108</td>\n",
       "      <td>False</td>\n",
       "      <td>NaN</td>\n",
       "      <td>0.0</td>\n",
       "    </tr>\n",
       "    <tr>\n",
       "      <th>52331</th>\n",
       "      <td>407-8364731-6449117</td>\n",
       "      <td>2022-05-29</td>\n",
       "      <td>Shipped</td>\n",
       "      <td>Amazon</td>\n",
       "      <td>Amazon.in</td>\n",
       "      <td>Expedited</td>\n",
       "      <td>JNE3769</td>\n",
       "      <td>JNE3769-KR-XXL</td>\n",
       "      <td>kurta</td>\n",
       "      <td>XXL</td>\n",
       "      <td>...</td>\n",
       "      <td>INR</td>\n",
       "      <td>487.0</td>\n",
       "      <td>Theni</td>\n",
       "      <td>TAMIL NADU</td>\n",
       "      <td>625579.0</td>\n",
       "      <td>IN</td>\n",
       "      <td>IN Core Free Shipping 2015/04/08 23-48-5-108</td>\n",
       "      <td>False</td>\n",
       "      <td>NaN</td>\n",
       "      <td>0.0</td>\n",
       "    </tr>\n",
       "    <tr>\n",
       "      <th>52332</th>\n",
       "      <td>407-8364731-6449117</td>\n",
       "      <td>2022-05-29</td>\n",
       "      <td>Shipped</td>\n",
       "      <td>Amazon</td>\n",
       "      <td>Amazon.in</td>\n",
       "      <td>Expedited</td>\n",
       "      <td>JNE3769</td>\n",
       "      <td>JNE3769-KR-XXXL</td>\n",
       "      <td>kurta</td>\n",
       "      <td>3XL</td>\n",
       "      <td>...</td>\n",
       "      <td>INR</td>\n",
       "      <td>487.0</td>\n",
       "      <td>Theni</td>\n",
       "      <td>TAMIL NADU</td>\n",
       "      <td>625579.0</td>\n",
       "      <td>IN</td>\n",
       "      <td>IN Core Free Shipping 2015/04/08 23-48-5-108</td>\n",
       "      <td>False</td>\n",
       "      <td>NaN</td>\n",
       "      <td>0.0</td>\n",
       "    </tr>\n",
       "    <tr>\n",
       "      <th>52333</th>\n",
       "      <td>407-8364731-6449117</td>\n",
       "      <td>2022-05-29</td>\n",
       "      <td>Shipped</td>\n",
       "      <td>Amazon</td>\n",
       "      <td>Amazon.in</td>\n",
       "      <td>Expedited</td>\n",
       "      <td>JNE3769</td>\n",
       "      <td>JNE3769-KR-L</td>\n",
       "      <td>kurta</td>\n",
       "      <td>L</td>\n",
       "      <td>...</td>\n",
       "      <td>INR</td>\n",
       "      <td>487.0</td>\n",
       "      <td>Theni</td>\n",
       "      <td>TAMIL NADU</td>\n",
       "      <td>625579.0</td>\n",
       "      <td>IN</td>\n",
       "      <td>IN Core Free Shipping 2015/04/08 23-48-5-108</td>\n",
       "      <td>False</td>\n",
       "      <td>NaN</td>\n",
       "      <td>0.0</td>\n",
       "    </tr>\n",
       "    <tr>\n",
       "      <th>52334</th>\n",
       "      <td>407-8364731-6449117</td>\n",
       "      <td>2022-05-29</td>\n",
       "      <td>Shipped</td>\n",
       "      <td>Amazon</td>\n",
       "      <td>Amazon.in</td>\n",
       "      <td>Expedited</td>\n",
       "      <td>JNE3769</td>\n",
       "      <td>JNE3769-KR-XL</td>\n",
       "      <td>kurta</td>\n",
       "      <td>XL</td>\n",
       "      <td>...</td>\n",
       "      <td>INR</td>\n",
       "      <td>487.0</td>\n",
       "      <td>Theni</td>\n",
       "      <td>TAMIL NADU</td>\n",
       "      <td>625579.0</td>\n",
       "      <td>IN</td>\n",
       "      <td>IN Core Free Shipping 2015/04/08 23-48-5-108</td>\n",
       "      <td>False</td>\n",
       "      <td>NaN</td>\n",
       "      <td>0.0</td>\n",
       "    </tr>\n",
       "  </tbody>\n",
       "</table>\n",
       "<p>5 rows × 23 columns</p>\n",
       "</div>"
      ],
      "text/plain": [
       "                   orderid       date   status fulfilment saleschannel  \\\n",
       "52330  407-8364731-6449117 2022-05-29  Shipped     Amazon    Amazon.in   \n",
       "52331  407-8364731-6449117 2022-05-29  Shipped     Amazon    Amazon.in   \n",
       "52332  407-8364731-6449117 2022-05-29  Shipped     Amazon    Amazon.in   \n",
       "52333  407-8364731-6449117 2022-05-29  Shipped     Amazon    Amazon.in   \n",
       "52334  407-8364731-6449117 2022-05-29  Shipped     Amazon    Amazon.in   \n",
       "\n",
       "      shipservicelevel    style              sku category size  ... currency  \\\n",
       "52330        Expedited  JNE3769     JNE3769-KR-L    kurta    L  ...      NaN   \n",
       "52331        Expedited  JNE3769   JNE3769-KR-XXL    kurta  XXL  ...      INR   \n",
       "52332        Expedited  JNE3769  JNE3769-KR-XXXL    kurta  3XL  ...      INR   \n",
       "52333        Expedited  JNE3769     JNE3769-KR-L    kurta    L  ...      INR   \n",
       "52334        Expedited  JNE3769    JNE3769-KR-XL    kurta   XL  ...      INR   \n",
       "\n",
       "      amount  shipcity   shipstate  shippostalcode shipcountry  \\\n",
       "52330    NaN     Theni  TAMIL NADU        625579.0          IN   \n",
       "52331  487.0     Theni  TAMIL NADU        625579.0          IN   \n",
       "52332  487.0     Theni  TAMIL NADU        625579.0          IN   \n",
       "52333  487.0     Theni  TAMIL NADU        625579.0          IN   \n",
       "52334  487.0     Theni  TAMIL NADU        625579.0          IN   \n",
       "\n",
       "                                       promotionids    b2b fulfilledby  \\\n",
       "52330  IN Core Free Shipping 2015/04/08 23-48-5-108  False         NaN   \n",
       "52331  IN Core Free Shipping 2015/04/08 23-48-5-108  False         NaN   \n",
       "52332  IN Core Free Shipping 2015/04/08 23-48-5-108  False         NaN   \n",
       "52333  IN Core Free Shipping 2015/04/08 23-48-5-108  False         NaN   \n",
       "52334  IN Core Free Shipping 2015/04/08 23-48-5-108  False         NaN   \n",
       "\n",
       "      unnamed:22  \n",
       "52330        0.0  \n",
       "52331        0.0  \n",
       "52332        0.0  \n",
       "52333        0.0  \n",
       "52334        0.0  \n",
       "\n",
       "[5 rows x 23 columns]"
      ]
     },
     "execution_count": 95,
     "metadata": {},
     "output_type": "execute_result"
    }
   ],
   "source": [
    "############# verifying the duplicate data #################\n",
    "#fetch the row with orderid 407-8364731-6449117\t\n",
    "amazonSaleRepDF[amazonSaleRepDF['qty']=='407-8364731-6449117']"
   ]
  },
  {
   "cell_type": "code",
   "execution_count": 22,
   "metadata": {},
   "outputs": [],
   "source": [
    "#remove rows with status as cancelled\n",
    "amazonSaleRepPopularDF = amazonSaleRepDF1[amazonSaleRepDF1.status != 'Cancelled']"
   ]
  },
  {
   "cell_type": "code",
   "execution_count": 23,
   "metadata": {},
   "outputs": [
    {
     "data": {
      "text/html": [
       "<div>\n",
       "<style scoped>\n",
       "    .dataframe tbody tr th:only-of-type {\n",
       "        vertical-align: middle;\n",
       "    }\n",
       "\n",
       "    .dataframe tbody tr th {\n",
       "        vertical-align: top;\n",
       "    }\n",
       "\n",
       "    .dataframe thead th {\n",
       "        text-align: right;\n",
       "    }\n",
       "</style>\n",
       "<table border=\"1\" class=\"dataframe\">\n",
       "  <thead>\n",
       "    <tr style=\"text-align: right;\">\n",
       "      <th></th>\n",
       "      <th>orderid</th>\n",
       "      <th>status</th>\n",
       "      <th>style</th>\n",
       "      <th>date</th>\n",
       "      <th>qty</th>\n",
       "      <th>sku</th>\n",
       "    </tr>\n",
       "  </thead>\n",
       "  <tbody>\n",
       "    <tr>\n",
       "      <th>1</th>\n",
       "      <td>171-9198151-1101146</td>\n",
       "      <td>Shipped - Delivered to Buyer</td>\n",
       "      <td>JNE3781</td>\n",
       "      <td>2022-04-30</td>\n",
       "      <td>1</td>\n",
       "      <td>JNE3781-KR-XXXL</td>\n",
       "    </tr>\n",
       "    <tr>\n",
       "      <th>2</th>\n",
       "      <td>404-0687676-7273146</td>\n",
       "      <td>Shipped</td>\n",
       "      <td>JNE3371</td>\n",
       "      <td>2022-04-30</td>\n",
       "      <td>1</td>\n",
       "      <td>JNE3371-KR-XL</td>\n",
       "    </tr>\n",
       "    <tr>\n",
       "      <th>4</th>\n",
       "      <td>407-1069790-7240320</td>\n",
       "      <td>Shipped</td>\n",
       "      <td>JNE3671</td>\n",
       "      <td>2022-04-30</td>\n",
       "      <td>1</td>\n",
       "      <td>JNE3671-TU-XXXL</td>\n",
       "    </tr>\n",
       "    <tr>\n",
       "      <th>5</th>\n",
       "      <td>404-1490984-4578765</td>\n",
       "      <td>Shipped</td>\n",
       "      <td>SET264</td>\n",
       "      <td>2022-04-30</td>\n",
       "      <td>1</td>\n",
       "      <td>SET264-KR-NP-XL</td>\n",
       "    </tr>\n",
       "    <tr>\n",
       "      <th>6</th>\n",
       "      <td>408-5748499-6859555</td>\n",
       "      <td>Shipped</td>\n",
       "      <td>J0095</td>\n",
       "      <td>2022-04-30</td>\n",
       "      <td>1</td>\n",
       "      <td>J0095-SET-L</td>\n",
       "    </tr>\n",
       "  </tbody>\n",
       "</table>\n",
       "</div>"
      ],
      "text/plain": [
       "               orderid                        status    style       date  qty  \\\n",
       "1  171-9198151-1101146  Shipped - Delivered to Buyer  JNE3781 2022-04-30    1   \n",
       "2  404-0687676-7273146                       Shipped  JNE3371 2022-04-30    1   \n",
       "4  407-1069790-7240320                       Shipped  JNE3671 2022-04-30    1   \n",
       "5  404-1490984-4578765                       Shipped   SET264 2022-04-30    1   \n",
       "6  408-5748499-6859555                       Shipped    J0095 2022-04-30    1   \n",
       "\n",
       "               sku  \n",
       "1  JNE3781-KR-XXXL  \n",
       "2    JNE3371-KR-XL  \n",
       "4  JNE3671-TU-XXXL  \n",
       "5  SET264-KR-NP-XL  \n",
       "6      J0095-SET-L  "
      ]
     },
     "execution_count": 23,
     "metadata": {},
     "output_type": "execute_result"
    }
   ],
   "source": [
    "amazonSaleRepPopularDF.head()"
   ]
  },
  {
   "cell_type": "code",
   "execution_count": 24,
   "metadata": {},
   "outputs": [
    {
     "data": {
      "text/html": [
       "<div>\n",
       "<style scoped>\n",
       "    .dataframe tbody tr th:only-of-type {\n",
       "        vertical-align: middle;\n",
       "    }\n",
       "\n",
       "    .dataframe tbody tr th {\n",
       "        vertical-align: top;\n",
       "    }\n",
       "\n",
       "    .dataframe thead th {\n",
       "        text-align: right;\n",
       "    }\n",
       "</style>\n",
       "<table border=\"1\" class=\"dataframe\">\n",
       "  <thead>\n",
       "    <tr style=\"text-align: right;\">\n",
       "      <th></th>\n",
       "      <th>date</th>\n",
       "      <th>qty</th>\n",
       "    </tr>\n",
       "  </thead>\n",
       "  <tbody>\n",
       "    <tr>\n",
       "      <th>count</th>\n",
       "      <td>110640</td>\n",
       "      <td>110640.000000</td>\n",
       "    </tr>\n",
       "    <tr>\n",
       "      <th>mean</th>\n",
       "      <td>2022-05-12 14:01:42.299349504</td>\n",
       "      <td>1.003154</td>\n",
       "    </tr>\n",
       "    <tr>\n",
       "      <th>min</th>\n",
       "      <td>2022-03-31 00:00:00</td>\n",
       "      <td>0.000000</td>\n",
       "    </tr>\n",
       "    <tr>\n",
       "      <th>25%</th>\n",
       "      <td>2022-04-20 00:00:00</td>\n",
       "      <td>1.000000</td>\n",
       "    </tr>\n",
       "    <tr>\n",
       "      <th>50%</th>\n",
       "      <td>2022-05-10 00:00:00</td>\n",
       "      <td>1.000000</td>\n",
       "    </tr>\n",
       "    <tr>\n",
       "      <th>75%</th>\n",
       "      <td>2022-06-04 00:00:00</td>\n",
       "      <td>1.000000</td>\n",
       "    </tr>\n",
       "    <tr>\n",
       "      <th>max</th>\n",
       "      <td>2022-06-29 00:00:00</td>\n",
       "      <td>15.000000</td>\n",
       "    </tr>\n",
       "    <tr>\n",
       "      <th>std</th>\n",
       "      <td>NaN</td>\n",
       "      <td>0.100339</td>\n",
       "    </tr>\n",
       "  </tbody>\n",
       "</table>\n",
       "</div>"
      ],
      "text/plain": [
       "                                date            qty\n",
       "count                         110640  110640.000000\n",
       "mean   2022-05-12 14:01:42.299349504       1.003154\n",
       "min              2022-03-31 00:00:00       0.000000\n",
       "25%              2022-04-20 00:00:00       1.000000\n",
       "50%              2022-05-10 00:00:00       1.000000\n",
       "75%              2022-06-04 00:00:00       1.000000\n",
       "max              2022-06-29 00:00:00      15.000000\n",
       "std                              NaN       0.100339"
      ]
     },
     "execution_count": 24,
     "metadata": {},
     "output_type": "execute_result"
    }
   ],
   "source": [
    "#summary statistics of amazonSaleRepPopularDF\n",
    "amazonSaleRepPopularDF.describe()"
   ]
  },
  {
   "cell_type": "code",
   "execution_count": 25,
   "metadata": {},
   "outputs": [],
   "source": [
    "# Aggregate the data to find the number of transactions per product (SKU)\n",
    "product_transactions = amazonSaleRepPopularDF.groupby('sku')['orderid'].count().sort_values(ascending=False)"
   ]
  },
  {
   "cell_type": "code",
   "execution_count": 26,
   "metadata": {},
   "outputs": [
    {
     "data": {
      "text/plain": [
       "7.0"
      ]
     },
     "execution_count": 26,
     "metadata": {},
     "output_type": "execute_result"
    }
   ],
   "source": [
    "#define a threshold for popular products\n",
    "popularThreshold = product_transactions.median()\n",
    "popularThreshold"
   ]
  },
  {
   "cell_type": "code",
   "execution_count": 27,
   "metadata": {},
   "outputs": [],
   "source": [
    "# Create a binary target variable 'Is_Popular'\n",
    "amazonSaleRepPopularDF['Is_Popular'] = amazonSaleRepPopularDF['sku'].apply(lambda x: 1 if product_transactions[x] > popularThreshold else 0)"
   ]
  },
  {
   "cell_type": "code",
   "execution_count": 28,
   "metadata": {},
   "outputs": [],
   "source": [
    "# Encode the 'Style' and 'SKU' columns\n",
    "label_encoder = LabelEncoder()\n",
    "amazonSaleRepPopularDF['Style_Code'] = label_encoder.fit_transform(amazonSaleRepPopularDF['style'])\n",
    "amazonSaleRepPopularDF['SKU_Code'] = label_encoder.fit_transform(amazonSaleRepPopularDF['sku'])"
   ]
  },
  {
   "cell_type": "code",
   "execution_count": 29,
   "metadata": {},
   "outputs": [
    {
     "data": {
      "text/html": [
       "<div>\n",
       "<style scoped>\n",
       "    .dataframe tbody tr th:only-of-type {\n",
       "        vertical-align: middle;\n",
       "    }\n",
       "\n",
       "    .dataframe tbody tr th {\n",
       "        vertical-align: top;\n",
       "    }\n",
       "\n",
       "    .dataframe thead th {\n",
       "        text-align: right;\n",
       "    }\n",
       "</style>\n",
       "<table border=\"1\" class=\"dataframe\">\n",
       "  <thead>\n",
       "    <tr style=\"text-align: right;\">\n",
       "      <th></th>\n",
       "      <th>orderid</th>\n",
       "      <th>status</th>\n",
       "      <th>style</th>\n",
       "      <th>date</th>\n",
       "      <th>qty</th>\n",
       "      <th>sku</th>\n",
       "      <th>Is_Popular</th>\n",
       "      <th>Style_Code</th>\n",
       "      <th>SKU_Code</th>\n",
       "    </tr>\n",
       "  </thead>\n",
       "  <tbody>\n",
       "    <tr>\n",
       "      <th>1</th>\n",
       "      <td>171-9198151-1101146</td>\n",
       "      <td>Shipped - Delivered to Buyer</td>\n",
       "      <td>JNE3781</td>\n",
       "      <td>2022-04-30</td>\n",
       "      <td>1</td>\n",
       "      <td>JNE3781-KR-XXXL</td>\n",
       "      <td>1</td>\n",
       "      <td>845</td>\n",
       "      <td>4387</td>\n",
       "    </tr>\n",
       "    <tr>\n",
       "      <th>2</th>\n",
       "      <td>404-0687676-7273146</td>\n",
       "      <td>Shipped</td>\n",
       "      <td>JNE3371</td>\n",
       "      <td>2022-04-30</td>\n",
       "      <td>1</td>\n",
       "      <td>JNE3371-KR-XL</td>\n",
       "      <td>1</td>\n",
       "      <td>531</td>\n",
       "      <td>2596</td>\n",
       "    </tr>\n",
       "    <tr>\n",
       "      <th>4</th>\n",
       "      <td>407-1069790-7240320</td>\n",
       "      <td>Shipped</td>\n",
       "      <td>JNE3671</td>\n",
       "      <td>2022-04-30</td>\n",
       "      <td>1</td>\n",
       "      <td>JNE3671-TU-XXXL</td>\n",
       "      <td>1</td>\n",
       "      <td>752</td>\n",
       "      <td>3790</td>\n",
       "    </tr>\n",
       "    <tr>\n",
       "      <th>5</th>\n",
       "      <td>404-1490984-4578765</td>\n",
       "      <td>Shipped</td>\n",
       "      <td>SET264</td>\n",
       "      <td>2022-04-30</td>\n",
       "      <td>1</td>\n",
       "      <td>SET264-KR-NP-XL</td>\n",
       "      <td>1</td>\n",
       "      <td>1230</td>\n",
       "      <td>6207</td>\n",
       "    </tr>\n",
       "    <tr>\n",
       "      <th>6</th>\n",
       "      <td>408-5748499-6859555</td>\n",
       "      <td>Shipped</td>\n",
       "      <td>J0095</td>\n",
       "      <td>2022-04-30</td>\n",
       "      <td>1</td>\n",
       "      <td>J0095-SET-L</td>\n",
       "      <td>1</td>\n",
       "      <td>179</td>\n",
       "      <td>650</td>\n",
       "    </tr>\n",
       "  </tbody>\n",
       "</table>\n",
       "</div>"
      ],
      "text/plain": [
       "               orderid                        status    style       date  qty  \\\n",
       "1  171-9198151-1101146  Shipped - Delivered to Buyer  JNE3781 2022-04-30    1   \n",
       "2  404-0687676-7273146                       Shipped  JNE3371 2022-04-30    1   \n",
       "4  407-1069790-7240320                       Shipped  JNE3671 2022-04-30    1   \n",
       "5  404-1490984-4578765                       Shipped   SET264 2022-04-30    1   \n",
       "6  408-5748499-6859555                       Shipped    J0095 2022-04-30    1   \n",
       "\n",
       "               sku  Is_Popular  Style_Code  SKU_Code  \n",
       "1  JNE3781-KR-XXXL           1         845      4387  \n",
       "2    JNE3371-KR-XL           1         531      2596  \n",
       "4  JNE3671-TU-XXXL           1         752      3790  \n",
       "5  SET264-KR-NP-XL           1        1230      6207  \n",
       "6      J0095-SET-L           1         179       650  "
      ]
     },
     "execution_count": 29,
     "metadata": {},
     "output_type": "execute_result"
    }
   ],
   "source": [
    "amazonSaleRepPopularDF.head()"
   ]
  },
  {
   "cell_type": "code",
   "execution_count": 77,
   "metadata": {},
   "outputs": [],
   "source": [
    "########## Do not run##########\n",
    "\n",
    "#encode categorical variables\n",
    "# label_encoders = {}\n",
    "# for column in ['status', 'style']:\n",
    "#     label_encoders[column] = LabelEncoder()\n",
    "#     amazonSaleRepPopularDF[column] = label_encoders[column].fit_transform(amazonSaleRepPopularDF[column])"
   ]
  },
  {
   "cell_type": "code",
   "execution_count": 30,
   "metadata": {},
   "outputs": [],
   "source": [
    "#set feature and target variables\n",
    "features = amazonSaleRepPopularDF[[ 'Style_Code', 'SKU_Code', 'qty']]\n",
    "target = amazonSaleRepPopularDF['Is_Popular']"
   ]
  },
  {
   "cell_type": "code",
   "execution_count": 31,
   "metadata": {},
   "outputs": [],
   "source": [
    "# One-hot encoding for categorical features\n",
    "encoder = OneHotEncoder()\n",
    "encoded_features = encoder.fit_transform(features)"
   ]
  },
  {
   "cell_type": "code",
   "execution_count": 32,
   "metadata": {},
   "outputs": [],
   "source": [
    "#split the data into train and test sets with 70:30 ratio\n",
    "X_train, X_test, y_train, y_test = train_test_split(encoded_features, target, test_size=0.3, random_state=42)"
   ]
  },
  {
   "cell_type": "code",
   "execution_count": 33,
   "metadata": {},
   "outputs": [
    {
     "data": {
      "text/html": [
       "<style>#sk-container-id-1 {color: black;}#sk-container-id-1 pre{padding: 0;}#sk-container-id-1 div.sk-toggleable {background-color: white;}#sk-container-id-1 label.sk-toggleable__label {cursor: pointer;display: block;width: 100%;margin-bottom: 0;padding: 0.3em;box-sizing: border-box;text-align: center;}#sk-container-id-1 label.sk-toggleable__label-arrow:before {content: \"▸\";float: left;margin-right: 0.25em;color: #696969;}#sk-container-id-1 label.sk-toggleable__label-arrow:hover:before {color: black;}#sk-container-id-1 div.sk-estimator:hover label.sk-toggleable__label-arrow:before {color: black;}#sk-container-id-1 div.sk-toggleable__content {max-height: 0;max-width: 0;overflow: hidden;text-align: left;background-color: #f0f8ff;}#sk-container-id-1 div.sk-toggleable__content pre {margin: 0.2em;color: black;border-radius: 0.25em;background-color: #f0f8ff;}#sk-container-id-1 input.sk-toggleable__control:checked~div.sk-toggleable__content {max-height: 200px;max-width: 100%;overflow: auto;}#sk-container-id-1 input.sk-toggleable__control:checked~label.sk-toggleable__label-arrow:before {content: \"▾\";}#sk-container-id-1 div.sk-estimator input.sk-toggleable__control:checked~label.sk-toggleable__label {background-color: #d4ebff;}#sk-container-id-1 div.sk-label input.sk-toggleable__control:checked~label.sk-toggleable__label {background-color: #d4ebff;}#sk-container-id-1 input.sk-hidden--visually {border: 0;clip: rect(1px 1px 1px 1px);clip: rect(1px, 1px, 1px, 1px);height: 1px;margin: -1px;overflow: hidden;padding: 0;position: absolute;width: 1px;}#sk-container-id-1 div.sk-estimator {font-family: monospace;background-color: #f0f8ff;border: 1px dotted black;border-radius: 0.25em;box-sizing: border-box;margin-bottom: 0.5em;}#sk-container-id-1 div.sk-estimator:hover {background-color: #d4ebff;}#sk-container-id-1 div.sk-parallel-item::after {content: \"\";width: 100%;border-bottom: 1px solid gray;flex-grow: 1;}#sk-container-id-1 div.sk-label:hover label.sk-toggleable__label {background-color: #d4ebff;}#sk-container-id-1 div.sk-serial::before {content: \"\";position: absolute;border-left: 1px solid gray;box-sizing: border-box;top: 0;bottom: 0;left: 50%;z-index: 0;}#sk-container-id-1 div.sk-serial {display: flex;flex-direction: column;align-items: center;background-color: white;padding-right: 0.2em;padding-left: 0.2em;position: relative;}#sk-container-id-1 div.sk-item {position: relative;z-index: 1;}#sk-container-id-1 div.sk-parallel {display: flex;align-items: stretch;justify-content: center;background-color: white;position: relative;}#sk-container-id-1 div.sk-item::before, #sk-container-id-1 div.sk-parallel-item::before {content: \"\";position: absolute;border-left: 1px solid gray;box-sizing: border-box;top: 0;bottom: 0;left: 50%;z-index: -1;}#sk-container-id-1 div.sk-parallel-item {display: flex;flex-direction: column;z-index: 1;position: relative;background-color: white;}#sk-container-id-1 div.sk-parallel-item:first-child::after {align-self: flex-end;width: 50%;}#sk-container-id-1 div.sk-parallel-item:last-child::after {align-self: flex-start;width: 50%;}#sk-container-id-1 div.sk-parallel-item:only-child::after {width: 0;}#sk-container-id-1 div.sk-dashed-wrapped {border: 1px dashed gray;margin: 0 0.4em 0.5em 0.4em;box-sizing: border-box;padding-bottom: 0.4em;background-color: white;}#sk-container-id-1 div.sk-label label {font-family: monospace;font-weight: bold;display: inline-block;line-height: 1.2em;}#sk-container-id-1 div.sk-label-container {text-align: center;}#sk-container-id-1 div.sk-container {/* jupyter's `normalize.less` sets `[hidden] { display: none; }` but bootstrap.min.css set `[hidden] { display: none !important; }` so we also need the `!important` here to be able to override the default hidden behavior on the sphinx rendered scikit-learn.org. See: https://github.com/scikit-learn/scikit-learn/issues/21755 */display: inline-block !important;position: relative;}#sk-container-id-1 div.sk-text-repr-fallback {display: none;}</style><div id=\"sk-container-id-1\" class=\"sk-top-container\"><div class=\"sk-text-repr-fallback\"><pre>RandomForestClassifier(random_state=42)</pre><b>In a Jupyter environment, please rerun this cell to show the HTML representation or trust the notebook. <br />On GitHub, the HTML representation is unable to render, please try loading this page with nbviewer.org.</b></div><div class=\"sk-container\" hidden><div class=\"sk-item\"><div class=\"sk-estimator sk-toggleable\"><input class=\"sk-toggleable__control sk-hidden--visually\" id=\"sk-estimator-id-1\" type=\"checkbox\" checked><label for=\"sk-estimator-id-1\" class=\"sk-toggleable__label sk-toggleable__label-arrow\">RandomForestClassifier</label><div class=\"sk-toggleable__content\"><pre>RandomForestClassifier(random_state=42)</pre></div></div></div></div></div>"
      ],
      "text/plain": [
       "RandomForestClassifier(random_state=42)"
      ]
     },
     "execution_count": 33,
     "metadata": {},
     "output_type": "execute_result"
    }
   ],
   "source": [
    "#create and train the random forest classifier model with criterion as entropy\n",
    "rf_classifier = RandomForestClassifier(random_state=42)\n",
    "rf_classifier.fit(X_train, y_train)"
   ]
  },
  {
   "cell_type": "code",
   "execution_count": 96,
   "metadata": {},
   "outputs": [],
   "source": [
    "from sklearn.metrics import classification_report, confusion_matrix\n",
    "from sklearn.metrics import classification_report, accuracy_score"
   ]
  },
  {
   "cell_type": "code",
   "execution_count": 97,
   "metadata": {},
   "outputs": [
    {
     "name": "stdout",
     "output_type": "stream",
     "text": [
      "[[33091     0]\n",
      " [    2    99]]\n"
     ]
    }
   ],
   "source": [
    "#predict and evaluate the model (entropy)\n",
    "y_pred = rf_classifier.predict(X_test)\n",
    "print(confusion_matrix(y_test,y_pred))\n"
   ]
  },
  {
   "cell_type": "code",
   "execution_count": 100,
   "metadata": {},
   "outputs": [
    {
     "name": "stdout",
     "output_type": "stream",
     "text": [
      "Accuracy: 0.999939744516751\n",
      "              precision    recall  f1-score   support\n",
      "\n",
      "           0       1.00      1.00      1.00     33091\n",
      "           1       1.00      0.98      0.99       101\n",
      "\n",
      "    accuracy                           1.00     33192\n",
      "   macro avg       1.00      0.99      0.99     33192\n",
      "weighted avg       1.00      1.00      1.00     33192\n",
      "\n"
     ]
    }
   ],
   "source": [
    "print(\"Accuracy:\", accuracy_score(y_test, y_pred))\n",
    "print(classification_report(y_test, y_pred))"
   ]
  },
  {
   "cell_type": "code",
   "execution_count": 103,
   "metadata": {},
   "outputs": [
    {
     "name": "stdout",
     "output_type": "stream",
     "text": [
      "X_train shape: (77448, 111801)\n",
      "X_test shape: (33192, 111801)\n"
     ]
    }
   ],
   "source": [
    "# display the confusion matrix graphically in light colours\n",
    "cm = confusion_matrix(y_test,y_pred)\n",
    "disp = ConfusionMatrixDisplay(confusion_matrix=cm,display_labels=rf_classifier.classes_)\n",
    "disp.plot(cmap='Pastel1')\n"
   ]
  }
 ],
 "metadata": {
  "kernelspec": {
   "display_name": "Python 3",
   "language": "python",
   "name": "python3"
  },
  "language_info": {
   "codemirror_mode": {
    "name": "ipython",
    "version": 3
   },
   "file_extension": ".py",
   "mimetype": "text/x-python",
   "name": "python",
   "nbconvert_exporter": "python",
   "pygments_lexer": "ipython3",
   "version": "3.11.4"
  }
 },
 "nbformat": 4,
 "nbformat_minor": 2
}
