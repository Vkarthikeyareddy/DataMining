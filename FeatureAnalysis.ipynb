{
 "cells": [
  {
   "cell_type": "markdown",
   "metadata": {},
   "source": [
    "Predicting the popularity of a product.\n",
    "Least popular can be discontinued"
   ]
  },
  {
   "cell_type": "code",
   "execution_count": 18,
   "metadata": {},
   "outputs": [],
   "source": [
    "import pandas as pd\n",
    "import matplotlib.pyplot as plt\n",
    "import numpy as np\n",
    "import os\n",
    "import seaborn as sns\n",
    "from glob import glob\n",
    "sns.set()\n",
    "from imblearn.over_sampling import RandomOverSampler\n",
    "from sklearn.preprocessing import OneHotEncoder,MinMaxScaler\n",
    "from sklearn.preprocessing import LabelEncoder\n",
    "from sklearn.pipeline import make_pipeline\n",
    "from sklearn.tree import DecisionTreeClassifier\n",
    "from sklearn.ensemble import RandomForestClassifier, GradientBoostingClassifier\n",
    "from sklearn.model_selection import GridSearchCV,train_test_split\n",
    "from sklearn.metrics import confusion_matrix,ConfusionMatrixDisplay,roc_curve,roc_auc_score\n",
    "from sklearn import set_config\n",
    "set_config(display = \"diagram\")  "
   ]
  },
  {
   "cell_type": "code",
   "execution_count": 3,
   "metadata": {},
   "outputs": [],
   "source": [
    "#set the file directory\n",
    "os.chdir('C:/Users/vetri/OneDrive/Documents/UArizonaEller/Coursework/Fall 2023/MIS545/Project/SalesData')"
   ]
  },
  {
   "cell_type": "code",
   "execution_count": 4,
   "metadata": {},
   "outputs": [],
   "source": [
    "#read the dataset to dataframe\n",
    "amazonSaleRepDF = pd.read_excel('Amazon Sale Report.xlsx',sheet_name='Amazon')"
   ]
  },
  {
   "cell_type": "code",
   "execution_count": 5,
   "metadata": {},
   "outputs": [
    {
     "data": {
      "text/html": [
       "<div>\n",
       "<style scoped>\n",
       "    .dataframe tbody tr th:only-of-type {\n",
       "        vertical-align: middle;\n",
       "    }\n",
       "\n",
       "    .dataframe tbody tr th {\n",
       "        vertical-align: top;\n",
       "    }\n",
       "\n",
       "    .dataframe thead th {\n",
       "        text-align: right;\n",
       "    }\n",
       "</style>\n",
       "<table border=\"1\" class=\"dataframe\">\n",
       "  <thead>\n",
       "    <tr style=\"text-align: right;\">\n",
       "      <th></th>\n",
       "      <th>Date</th>\n",
       "      <th>Qty</th>\n",
       "      <th>Amount</th>\n",
       "      <th>ship-postal-code</th>\n",
       "      <th>Unnamed: 22</th>\n",
       "    </tr>\n",
       "  </thead>\n",
       "  <tbody>\n",
       "    <tr>\n",
       "      <th>count</th>\n",
       "      <td>128975</td>\n",
       "      <td>128975.000000</td>\n",
       "      <td>121180.000000</td>\n",
       "      <td>128942.000000</td>\n",
       "      <td>79925.0</td>\n",
       "    </tr>\n",
       "    <tr>\n",
       "      <th>mean</th>\n",
       "      <td>2022-05-12 11:49:27.951928576</td>\n",
       "      <td>0.904431</td>\n",
       "      <td>648.561465</td>\n",
       "      <td>463966.236509</td>\n",
       "      <td>0.0</td>\n",
       "    </tr>\n",
       "    <tr>\n",
       "      <th>min</th>\n",
       "      <td>2022-03-31 00:00:00</td>\n",
       "      <td>0.000000</td>\n",
       "      <td>0.000000</td>\n",
       "      <td>110001.000000</td>\n",
       "      <td>0.0</td>\n",
       "    </tr>\n",
       "    <tr>\n",
       "      <th>25%</th>\n",
       "      <td>2022-04-20 00:00:00</td>\n",
       "      <td>1.000000</td>\n",
       "      <td>449.000000</td>\n",
       "      <td>382421.000000</td>\n",
       "      <td>0.0</td>\n",
       "    </tr>\n",
       "    <tr>\n",
       "      <th>50%</th>\n",
       "      <td>2022-05-10 00:00:00</td>\n",
       "      <td>1.000000</td>\n",
       "      <td>605.000000</td>\n",
       "      <td>500033.000000</td>\n",
       "      <td>0.0</td>\n",
       "    </tr>\n",
       "    <tr>\n",
       "      <th>75%</th>\n",
       "      <td>2022-06-04 00:00:00</td>\n",
       "      <td>1.000000</td>\n",
       "      <td>788.000000</td>\n",
       "      <td>600024.000000</td>\n",
       "      <td>0.0</td>\n",
       "    </tr>\n",
       "    <tr>\n",
       "      <th>max</th>\n",
       "      <td>2022-06-29 00:00:00</td>\n",
       "      <td>15.000000</td>\n",
       "      <td>5584.000000</td>\n",
       "      <td>989898.000000</td>\n",
       "      <td>0.0</td>\n",
       "    </tr>\n",
       "    <tr>\n",
       "      <th>std</th>\n",
       "      <td>NaN</td>\n",
       "      <td>0.313354</td>\n",
       "      <td>281.211687</td>\n",
       "      <td>191476.764941</td>\n",
       "      <td>0.0</td>\n",
       "    </tr>\n",
       "  </tbody>\n",
       "</table>\n",
       "</div>"
      ],
      "text/plain": [
       "                                Date            Qty         Amount  \\\n",
       "count                         128975  128975.000000  121180.000000   \n",
       "mean   2022-05-12 11:49:27.951928576       0.904431     648.561465   \n",
       "min              2022-03-31 00:00:00       0.000000       0.000000   \n",
       "25%              2022-04-20 00:00:00       1.000000     449.000000   \n",
       "50%              2022-05-10 00:00:00       1.000000     605.000000   \n",
       "75%              2022-06-04 00:00:00       1.000000     788.000000   \n",
       "max              2022-06-29 00:00:00      15.000000    5584.000000   \n",
       "std                              NaN       0.313354     281.211687   \n",
       "\n",
       "       ship-postal-code  Unnamed: 22  \n",
       "count     128942.000000      79925.0  \n",
       "mean      463966.236509          0.0  \n",
       "min       110001.000000          0.0  \n",
       "25%       382421.000000          0.0  \n",
       "50%       500033.000000          0.0  \n",
       "75%       600024.000000          0.0  \n",
       "max       989898.000000          0.0  \n",
       "std       191476.764941          0.0  "
      ]
     },
     "execution_count": 5,
     "metadata": {},
     "output_type": "execute_result"
    }
   ],
   "source": [
    "#Display summary statistics\n",
    "amazonSaleRepDF.describe()"
   ]
  },
  {
   "cell_type": "code",
   "execution_count": 6,
   "metadata": {},
   "outputs": [
    {
     "name": "stdout",
     "output_type": "stream",
     "text": [
      "<class 'pandas.core.frame.DataFrame'>\n",
      "RangeIndex: 128975 entries, 0 to 128974\n",
      "Data columns (total 23 columns):\n",
      " #   Column              Non-Null Count   Dtype         \n",
      "---  ------              --------------   -----         \n",
      " 0   Order ID            128975 non-null  object        \n",
      " 1   Date                128975 non-null  datetime64[ns]\n",
      " 2   Status              128975 non-null  object        \n",
      " 3   Fulfilment          128975 non-null  object        \n",
      " 4   Sales Channel       128975 non-null  object        \n",
      " 5   ship-service-level  128975 non-null  object        \n",
      " 6   Style               128975 non-null  object        \n",
      " 7   SKU                 128975 non-null  object        \n",
      " 8   Category            128975 non-null  object        \n",
      " 9   Size                128975 non-null  object        \n",
      " 10  ASIN                128975 non-null  object        \n",
      " 11  Courier Status      122103 non-null  object        \n",
      " 12  Qty                 128975 non-null  int64         \n",
      " 13  currency            121180 non-null  object        \n",
      " 14  Amount              121180 non-null  float64       \n",
      " 15  ship-city           128942 non-null  object        \n",
      " 16  ship-state          128942 non-null  object        \n",
      " 17  ship-postal-code    128942 non-null  float64       \n",
      " 18  ship-country        128942 non-null  object        \n",
      " 19  promotion-ids       79822 non-null   object        \n",
      " 20  B2B                 128975 non-null  bool          \n",
      " 21  fulfilled-by        39277 non-null   object        \n",
      " 22  Unnamed: 22         79925 non-null   float64       \n",
      "dtypes: bool(1), datetime64[ns](1), float64(3), int64(1), object(17)\n",
      "memory usage: 21.8+ MB\n"
     ]
    }
   ],
   "source": [
    "#Display the structure of the dataset\n",
    "amazonSaleRepDF.info()"
   ]
  },
  {
   "cell_type": "code",
   "execution_count": 6,
   "metadata": {},
   "outputs": [
    {
     "data": {
      "text/plain": [
       "['Order ID',\n",
       " 'Date',\n",
       " 'Status',\n",
       " 'Fulfilment',\n",
       " 'Sales Channel ',\n",
       " 'ship-service-level',\n",
       " 'Style',\n",
       " 'SKU',\n",
       " 'Category',\n",
       " 'Size',\n",
       " 'ASIN',\n",
       " 'Courier Status',\n",
       " 'Qty',\n",
       " 'currency',\n",
       " 'Amount',\n",
       " 'ship-city',\n",
       " 'ship-state',\n",
       " 'ship-postal-code',\n",
       " 'ship-country',\n",
       " 'promotion-ids',\n",
       " 'B2B',\n",
       " 'fulfilled-by',\n",
       " 'Unnamed: 22']"
      ]
     },
     "execution_count": 6,
     "metadata": {},
     "output_type": "execute_result"
    }
   ],
   "source": [
    "#print column names as list\n",
    "amazonSaleRepDF.columns.tolist()"
   ]
  },
  {
   "cell_type": "markdown",
   "metadata": {},
   "source": [
    "DATA CLEANING (Exploratory Data Analysis)"
   ]
  },
  {
   "cell_type": "code",
   "execution_count": 7,
   "metadata": {},
   "outputs": [],
   "source": [
    "#remove spaces and special characters from column names\n",
    "amazonSaleRepDF.columns = amazonSaleRepDF.columns.str.replace('_', '').str.replace('-','').str.replace(' ','')\n"
   ]
  },
  {
   "cell_type": "code",
   "execution_count": 8,
   "metadata": {},
   "outputs": [
    {
     "name": "stdout",
     "output_type": "stream",
     "text": [
      "['orderid', 'date', 'status', 'fulfilment', 'saleschannel', 'shipservicelevel', 'style', 'sku', 'category', 'size', 'asin', 'courierstatus', 'qty', 'currency', 'amount', 'shipcity', 'shipstate', 'shippostalcode', 'shipcountry', 'promotionids', 'b2b', 'fulfilledby', 'unnamed:22']\n"
     ]
    }
   ],
   "source": [
    "#change the column names to lower case\n",
    "amazonSaleRepDF.columns = map(str.lower, amazonSaleRepDF.columns)\n",
    "print(amazonSaleRepDF.columns.tolist())"
   ]
  },
  {
   "cell_type": "code",
   "execution_count": 9,
   "metadata": {},
   "outputs": [
    {
     "data": {
      "text/plain": [
       "orderid                 0\n",
       "date                    0\n",
       "status                  0\n",
       "fulfilment              0\n",
       "saleschannel            0\n",
       "shipservicelevel        0\n",
       "style                   0\n",
       "sku                     0\n",
       "category                0\n",
       "size                    0\n",
       "asin                    0\n",
       "courierstatus        6872\n",
       "qty                     0\n",
       "currency             7795\n",
       "amount               7795\n",
       "shipcity               33\n",
       "shipstate              33\n",
       "shippostalcode         33\n",
       "shipcountry            33\n",
       "promotionids        49153\n",
       "b2b                     0\n",
       "fulfilledby         89698\n",
       "unnamed:22          49050\n",
       "dtype: int64"
      ]
     },
     "execution_count": 9,
     "metadata": {},
     "output_type": "execute_result"
    }
   ],
   "source": [
    "#check for null values\n",
    "amazonSaleRepDF.isnull().sum()"
   ]
  },
  {
   "cell_type": "markdown",
   "metadata": {},
   "source": [
    "Feature Analysis on 'orderid'"
   ]
  },
  {
   "cell_type": "code",
   "execution_count": 10,
   "metadata": {},
   "outputs": [],
   "source": [
    "#dataframe of repeated orderid & sku and store it in repeatedOrderDF\n",
    "repeatedOrderDF = amazonSaleRepDF[amazonSaleRepDF.duplicated(['orderid','sku'],keep=False)]"
   ]
  },
  {
   "cell_type": "code",
   "execution_count": 12,
   "metadata": {},
   "outputs": [],
   "source": [
    "#remove rows with status as cancelled\n",
    "amazonSaleRepPopularDF = amazonSaleRepDF[amazonSaleRepDF.status != 'Cancelled']"
   ]
  },
  {
   "cell_type": "code",
   "execution_count": 13,
   "metadata": {},
   "outputs": [],
   "source": [
    "unique_orderid_repeat_count = repeatedOrderDF[\"orderid\"].nunique()"
   ]
  },
  {
   "cell_type": "code",
   "execution_count": 14,
   "metadata": {},
   "outputs": [],
   "source": [
    "# Aggregate the data to find the number of transactions per product (SKU)\n",
    "product_transactions = amazonSaleRepPopularDF.groupby('sku')['orderid'].count().sort_values(ascending=False)"
   ]
  },
  {
   "cell_type": "code",
   "execution_count": 15,
   "metadata": {},
   "outputs": [
    {
     "data": {
      "text/plain": [
       "7.0"
      ]
     },
     "execution_count": 15,
     "metadata": {},
     "output_type": "execute_result"
    }
   ],
   "source": [
    "#define a threshold for popular products\n",
    "popularThreshold = product_transactions.median()\n",
    "popularThreshold"
   ]
  },
  {
   "cell_type": "code",
   "execution_count": 19,
   "metadata": {},
   "outputs": [
    {
     "name": "stderr",
     "output_type": "stream",
     "text": [
      "C:\\Users\\vetri\\AppData\\Local\\Temp\\ipykernel_9880\\2072981356.py:2: SettingWithCopyWarning: \n",
      "A value is trying to be set on a copy of a slice from a DataFrame.\n",
      "Try using .loc[row_indexer,col_indexer] = value instead\n",
      "\n",
      "See the caveats in the documentation: https://pandas.pydata.org/pandas-docs/stable/user_guide/indexing.html#returning-a-view-versus-a-copy\n",
      "  amazonSaleRepPopularDF['is_popular'] = amazonSaleRepPopularDF['sku'].apply(lambda x: 1 if product_transactions[x] > popularThreshold else 0)\n"
     ]
    }
   ],
   "source": [
    "# Create a binary target variable 'Is_Popular'\n",
    "amazonSaleRepPopularDF['is_popular'] = amazonSaleRepPopularDF['sku'].apply(lambda x: 1 if product_transactions[x] > popularThreshold else 0)"
   ]
  },
  {
   "cell_type": "code",
   "execution_count": 20,
   "metadata": {},
   "outputs": [
    {
     "name": "stderr",
     "output_type": "stream",
     "text": [
      "C:\\Users\\vetri\\AppData\\Local\\Temp\\ipykernel_9880\\3878735635.py:3: SettingWithCopyWarning: \n",
      "A value is trying to be set on a copy of a slice from a DataFrame.\n",
      "Try using .loc[row_indexer,col_indexer] = value instead\n",
      "\n",
      "See the caveats in the documentation: https://pandas.pydata.org/pandas-docs/stable/user_guide/indexing.html#returning-a-view-versus-a-copy\n",
      "  amazonSaleRepPopularDF['Style_Code'] = label_encoder.fit_transform(amazonSaleRepPopularDF['style'])\n",
      "C:\\Users\\vetri\\AppData\\Local\\Temp\\ipykernel_9880\\3878735635.py:4: SettingWithCopyWarning: \n",
      "A value is trying to be set on a copy of a slice from a DataFrame.\n",
      "Try using .loc[row_indexer,col_indexer] = value instead\n",
      "\n",
      "See the caveats in the documentation: https://pandas.pydata.org/pandas-docs/stable/user_guide/indexing.html#returning-a-view-versus-a-copy\n",
      "  amazonSaleRepPopularDF['SKU_Code'] = label_encoder.fit_transform(amazonSaleRepPopularDF['sku'])\n"
     ]
    }
   ],
   "source": [
    "# Encode the 'Style' and 'SKU' columns\n",
    "label_encoder = LabelEncoder()\n",
    "amazonSaleRepPopularDF['Style_Code'] = label_encoder.fit_transform(amazonSaleRepPopularDF['style'])\n",
    "amazonSaleRepPopularDF['SKU_Code'] = label_encoder.fit_transform(amazonSaleRepPopularDF['sku'])"
   ]
  },
  {
   "cell_type": "code",
   "execution_count": 11,
   "metadata": {},
   "outputs": [
    {
     "name": "stdout",
     "output_type": "stream",
     "text": [
      "1. Number of unique orderid with multiple products per orderid purchased: 7\n",
      "2. Total number of rows of these orderid(s) with multiple products: 14\n",
      "3. Number of unique orderid with single product per orderid purchased: 113532\n"
     ]
    }
   ],
   "source": [
    "# count the total number of rows in the dataset occupied by repeated orders\n",
    "orderid_repeat_rows_count = len(repeatedOrderDF)\n",
    "\n",
    "# count the number of rows in the dataset occuppied by nonrepeat_orderids\n",
    "orderid_nonrepeat_rows = amazonSaleRepDF[amazonSaleRepDF[\"orderid\"].duplicated(keep = False) == False]\n",
    "orderid_nonrepeat_rows_count = len(orderid_nonrepeat_rows)\n",
    " \n",
    "print(f\"1. Number of unique orderid with multiple products per orderid purchased: {unique_orderid_repeat_count}\\n\"\n",
    "         f\"2. Total number of rows of these orderid(s) with multiple products: {orderid_repeat_rows_count}\\n\"\n",
    "          f\"3. Number of unique orderid with single product per orderid purchased: {orderid_nonrepeat_rows_count}\"\n",
    "         )"
   ]
  },
  {
   "cell_type": "code",
   "execution_count": 12,
   "metadata": {},
   "outputs": [
    {
     "name": "stderr",
     "output_type": "stream",
     "text": [
      "C:\\Users\\vetri\\AppData\\Local\\Temp\\ipykernel_22036\\716234506.py:26: FutureWarning: Series.__getitem__ treating keys as positions is deprecated. In a future version, integer keys will always be treated as labels (consistent with DataFrame behavior). To access a value by position, use `ser.iloc[pos]`\n",
      "  plt.text(x,y-10,data_label[x],color = \"white\",\n",
      "C:\\Users\\vetri\\AppData\\Local\\Temp\\ipykernel_22036\\716234506.py:31: FutureWarning: Series.__getitem__ treating keys as positions is deprecated. In a future version, integer keys will always be treated as labels (consistent with DataFrame behavior). To access a value by position, use `ser.iloc[pos]`\n",
      "  plt.text(x,y+5,(\"Count:\\n\"+count_label[x]),color = \"Darkgreen\",\n"
     ]
    },
    {
     "data": {
      "image/png": "[encoded data removed]",
      "text/plain": [
       "<Figure size 700x500 with 1 Axes>"
      ]
     },
     "metadata": {},
     "output_type": "display_data"
    }
   ],
   "source": [
    "# bar chart using matplotlib package\n",
    "fig,ax = plt.subplots(figsize = (7,5))\n",
    "\n",
    "# calculate and store the proportion values in a pandas.Series\n",
    "orderid_repeat_rows = amazonSaleRepDF[amazonSaleRepDF[\"orderid\"].duplicated(keep = False)]\n",
    "unique_orderid_repeat_list = orderid_repeat_rows[\"orderid\"].unique()\n",
    "plot_dataseries = round(amazonSaleRepDF[\"orderid\"].isin(unique_orderid_repeat_list).\n",
    "                        value_counts(normalize = True)*100,2)\n",
    "\n",
    "# plot the bar chart\n",
    "plot_dataseries.plot(kind = \"bar\",ax =ax)\n",
    "plt.title(\"Proportions of Single-Product \\nand Multipl-Product Orders\", fontsize = 16)\n",
    "plt.ylabel(\"Proportion\", fontsize = 14)\n",
    "plt.xlabel(\"Order Types\", fontsize = 14)\n",
    "plt.xticks(ticks = plot_dataseries.index,\n",
    "           labels = [\"Single-Product Orders\", \"Mutiple-Product Orders\"], rotation = \"horizontal\")\n",
    "plt.yticks(ticks = [20,40,60,80,100,120], labels = [\"20%\",\"40%\",\"60%\",\"80%\",\"100%\",\"120%\"])\n",
    "\n",
    "# create another two series with values to be diaplayed as data-label/value-label in the chart\n",
    "data_label = plot_dataseries.astype(str).str.cat(np.full((2,),\"%\"), sep = \"\")\n",
    "count_label = pd.Series(amazonSaleRepDF[\"orderid\"].isin(unique_orderid_repeat_list).value_counts()).astype(\"str\")\n",
    "\n",
    "# add/plot the data-label in the chart\n",
    "# in percentage format\n",
    "for x,y in enumerate(plot_dataseries):\n",
    "    plt.text(x,y-10,data_label[x],color = \"white\",\n",
    "             fontweight = 700,fontsize = 14, horizontalalignment = \"center\")\n",
    "    \n",
    "# in count values format\n",
    "for x,y in enumerate(plot_dataseries):\n",
    "    plt.text(x,y+5,(\"Count:\\n\"+count_label[x]),color = \"Darkgreen\",\n",
    "             fontweight = 700,fontsize = 14, horizontalalignment = \"center\")\n",
    "plt.show()"
   ]
  },
  {
   "cell_type": "markdown",
   "metadata": {},
   "source": [
    "\n",
    "Observations:\n",
    "\n",
    "We see that 88.03% (almost 90%)of the data are from orders with single-product order.\n",
    "We are now interested in the majority and, therefore, drop the multiple-product orders.\n",
    "And, we focus our analysis on the single-product orders for prediction/classification"
   ]
  },
  {
   "cell_type": "code",
   "execution_count": 13,
   "metadata": {},
   "outputs": [
    {
     "name": "stdout",
     "output_type": "stream",
     "text": [
      "<class 'pandas.core.frame.DataFrame'>\n",
      "Index: 113532 entries, 0 to 128974\n",
      "Data columns (total 22 columns):\n",
      " #   Column            Non-Null Count   Dtype         \n",
      "---  ------            --------------   -----         \n",
      " 0   date              113532 non-null  datetime64[ns]\n",
      " 1   status            113532 non-null  object        \n",
      " 2   fulfilment        113532 non-null  object        \n",
      " 3   saleschannel      113532 non-null  object        \n",
      " 4   shipservicelevel  113532 non-null  object        \n",
      " 5   style             113532 non-null  object        \n",
      " 6   sku               113532 non-null  object        \n",
      " 7   category          113532 non-null  object        \n",
      " 8   size              113532 non-null  object        \n",
      " 9   asin              113532 non-null  object        \n",
      " 10  courierstatus     107535 non-null  object        \n",
      " 11  qty               113532 non-null  int64         \n",
      " 12  currency          106446 non-null  object        \n",
      " 13  amount            106446 non-null  float64       \n",
      " 14  shipcity          113508 non-null  object        \n",
      " 15  shipstate         113508 non-null  object        \n",
      " 16  shippostalcode    113508 non-null  float64       \n",
      " 17  shipcountry       113508 non-null  object        \n",
      " 18  promotionids      68424 non-null   object        \n",
      " 19  b2b               113532 non-null  bool          \n",
      " 20  fulfilledby       34062 non-null   object        \n",
      " 21  unnamed:22        70253 non-null   float64       \n",
      "dtypes: bool(1), datetime64[ns](1), float64(3), int64(1), object(16)\n",
      "memory usage: 19.2+ MB\n"
     ]
    }
   ],
   "source": [
    "# drop the orderids with multiple products\n",
    "amazonSaleRepDF = amazonSaleRepDF[amazonSaleRepDF[\"orderid\"].duplicated(keep = False) == False]\n",
    "\n",
    "# drop redundant column \"orderid\"\n",
    "amazonSaleRepDF.drop(\"orderid\", axis = 1, inplace = True)\n",
    "amazonSaleRepDF.info()"
   ]
  },
  {
   "cell_type": "markdown",
   "metadata": {},
   "source": [
    "Feature Analysis on 'status'"
   ]
  },
  {
   "cell_type": "code",
   "execution_count": 14,
   "metadata": {},
   "outputs": [
    {
     "data": {
      "text/plain": [
       "array(['Cancelled', 'Shipped - Delivered to Buyer', 'Shipped',\n",
       "       'Shipped - Returned to Seller', 'Shipped - Rejected by Buyer',\n",
       "       'Shipped - Lost in Transit', 'Shipped - Out for Delivery',\n",
       "       'Shipped - Returning to Seller', 'Shipped - Picked Up', 'Pending',\n",
       "       'Pending - Waiting for Pick Up', 'Shipped - Damaged', 'Shipping'],\n",
       "      dtype=object)"
      ]
     },
     "execution_count": 14,
     "metadata": {},
     "output_type": "execute_result"
    }
   ],
   "source": [
    "#get unique values of 'status' column\n",
    "amazonSaleRepDF['status'].unique()"
   ]
  },
  {
   "cell_type": "code",
   "execution_count": 72,
   "metadata": {},
   "outputs": [],
   "source": [
    "# create a pandas dataframe calculating the \n",
    "# porportion (and number of occurence) of the \"status\" values\n",
    "\n",
    "# calculate the respective \"proportions\" of values in \"status\" column\n",
    "# and store it in a pandas.Series\n",
    "status_proportion = round(amazonSaleRepDF[\"status\"].value_counts(normalize = True)*100,2)\n"
   ]
  },
  {
   "cell_type": "code",
   "execution_count": 73,
   "metadata": {},
   "outputs": [],
   "source": [
    "#  rename series with \"Proportion(%)\", sort by index and change to dateframe\n",
    "status_proportion = status_proportion.rename(\"Proportion(%)\").sort_index().to_frame()"
   ]
  },
  {
   "cell_type": "code",
   "execution_count": 74,
   "metadata": {},
   "outputs": [
    {
     "data": {
      "text/html": [
       "<div>\n",
       "<style scoped>\n",
       "    .dataframe tbody tr th:only-of-type {\n",
       "        vertical-align: middle;\n",
       "    }\n",
       "\n",
       "    .dataframe tbody tr th {\n",
       "        vertical-align: top;\n",
       "    }\n",
       "\n",
       "    .dataframe thead th {\n",
       "        text-align: right;\n",
       "    }\n",
       "</style>\n",
       "<table border=\"1\" class=\"dataframe\">\n",
       "  <thead>\n",
       "    <tr style=\"text-align: right;\">\n",
       "      <th></th>\n",
       "      <th>Proportion(%)</th>\n",
       "    </tr>\n",
       "    <tr>\n",
       "      <th>status</th>\n",
       "      <th></th>\n",
       "    </tr>\n",
       "  </thead>\n",
       "  <tbody>\n",
       "    <tr>\n",
       "      <th>Cancelled</th>\n",
       "      <td>14.35</td>\n",
       "    </tr>\n",
       "    <tr>\n",
       "      <th>Pending</th>\n",
       "      <td>0.47</td>\n",
       "    </tr>\n",
       "    <tr>\n",
       "      <th>Pending - Waiting for Pick Up</th>\n",
       "      <td>0.22</td>\n",
       "    </tr>\n",
       "    <tr>\n",
       "      <th>Shipped</th>\n",
       "      <td>60.63</td>\n",
       "    </tr>\n",
       "    <tr>\n",
       "      <th>Shipped - Damaged</th>\n",
       "      <td>0.00</td>\n",
       "    </tr>\n",
       "  </tbody>\n",
       "</table>\n",
       "</div>"
      ],
      "text/plain": [
       "                               Proportion(%)\n",
       "status                                      \n",
       "Cancelled                              14.35\n",
       "Pending                                 0.47\n",
       "Pending - Waiting for Pick Up           0.22\n",
       "Shipped                                60.63\n",
       "Shipped - Damaged                       0.00"
      ]
     },
     "execution_count": 74,
     "metadata": {},
     "output_type": "execute_result"
    }
   ],
   "source": [
    "status_proportion.head()"
   ]
  },
  {
   "cell_type": "code",
   "execution_count": 75,
   "metadata": {},
   "outputs": [
    {
     "data": {
      "text/html": [
       "<div>\n",
       "<style scoped>\n",
       "    .dataframe tbody tr th:only-of-type {\n",
       "        vertical-align: middle;\n",
       "    }\n",
       "\n",
       "    .dataframe tbody tr th {\n",
       "        vertical-align: top;\n",
       "    }\n",
       "\n",
       "    .dataframe thead th {\n",
       "        text-align: right;\n",
       "    }\n",
       "</style>\n",
       "<table border=\"1\" class=\"dataframe\">\n",
       "  <thead>\n",
       "    <tr style=\"text-align: right;\">\n",
       "      <th></th>\n",
       "      <th>Proportion(%)</th>\n",
       "      <th>count</th>\n",
       "    </tr>\n",
       "    <tr>\n",
       "      <th>status</th>\n",
       "      <th></th>\n",
       "      <th></th>\n",
       "    </tr>\n",
       "  </thead>\n",
       "  <tbody>\n",
       "    <tr>\n",
       "      <th>Cancelled</th>\n",
       "      <td>14.35</td>\n",
       "      <td>16291</td>\n",
       "    </tr>\n",
       "    <tr>\n",
       "      <th>Pending</th>\n",
       "      <td>0.47</td>\n",
       "      <td>534</td>\n",
       "    </tr>\n",
       "    <tr>\n",
       "      <th>Pending - Waiting for Pick Up</th>\n",
       "      <td>0.22</td>\n",
       "      <td>248</td>\n",
       "    </tr>\n",
       "    <tr>\n",
       "      <th>Shipped</th>\n",
       "      <td>60.63</td>\n",
       "      <td>68837</td>\n",
       "    </tr>\n",
       "    <tr>\n",
       "      <th>Shipped - Damaged</th>\n",
       "      <td>0.00</td>\n",
       "      <td>1</td>\n",
       "    </tr>\n",
       "    <tr>\n",
       "      <th>Shipped - Delivered to Buyer</th>\n",
       "      <td>21.85</td>\n",
       "      <td>24812</td>\n",
       "    </tr>\n",
       "    <tr>\n",
       "      <th>Shipped - Lost in Transit</th>\n",
       "      <td>0.00</td>\n",
       "      <td>3</td>\n",
       "    </tr>\n",
       "    <tr>\n",
       "      <th>Shipped - Out for Delivery</th>\n",
       "      <td>0.03</td>\n",
       "      <td>29</td>\n",
       "    </tr>\n",
       "    <tr>\n",
       "      <th>Shipped - Picked Up</th>\n",
       "      <td>0.77</td>\n",
       "      <td>875</td>\n",
       "    </tr>\n",
       "    <tr>\n",
       "      <th>Shipped - Rejected by Buyer</th>\n",
       "      <td>0.01</td>\n",
       "      <td>11</td>\n",
       "    </tr>\n",
       "    <tr>\n",
       "      <th>Shipped - Returned to Seller</th>\n",
       "      <td>1.55</td>\n",
       "      <td>1763</td>\n",
       "    </tr>\n",
       "    <tr>\n",
       "      <th>Shipped - Returning to Seller</th>\n",
       "      <td>0.11</td>\n",
       "      <td>120</td>\n",
       "    </tr>\n",
       "    <tr>\n",
       "      <th>Shipping</th>\n",
       "      <td>0.01</td>\n",
       "      <td>8</td>\n",
       "    </tr>\n",
       "  </tbody>\n",
       "</table>\n",
       "</div>"
      ],
      "text/plain": [
       "                               Proportion(%)  count\n",
       "status                                             \n",
       "Cancelled                              14.35  16291\n",
       "Pending                                 0.47    534\n",
       "Pending - Waiting for Pick Up           0.22    248\n",
       "Shipped                                60.63  68837\n",
       "Shipped - Damaged                       0.00      1\n",
       "Shipped - Delivered to Buyer           21.85  24812\n",
       "Shipped - Lost in Transit               0.00      3\n",
       "Shipped - Out for Delivery              0.03     29\n",
       "Shipped - Picked Up                     0.77    875\n",
       "Shipped - Rejected by Buyer             0.01     11\n",
       "Shipped - Returned to Seller            1.55   1763\n",
       "Shipped - Returning to Seller           0.11    120\n",
       "Shipping                                0.01      8"
      ]
     },
     "execution_count": 75,
     "metadata": {},
     "output_type": "execute_result"
    }
   ],
   "source": [
    "# add col \"count\"\n",
    "status_proportion[\"count\"] = amazonSaleRepDF[\"status\"].value_counts().sort_index()\n",
    "status_proportion"
   ]
  },
  {
   "cell_type": "code",
   "execution_count": 76,
   "metadata": {},
   "outputs": [
    {
     "data": {
      "text/html": [
       "<div>\n",
       "<style scoped>\n",
       "    .dataframe tbody tr th:only-of-type {\n",
       "        vertical-align: middle;\n",
       "    }\n",
       "\n",
       "    .dataframe tbody tr th {\n",
       "        vertical-align: top;\n",
       "    }\n",
       "\n",
       "    .dataframe thead th {\n",
       "        text-align: right;\n",
       "    }\n",
       "</style>\n",
       "<table border=\"1\" class=\"dataframe\">\n",
       "  <thead>\n",
       "    <tr style=\"text-align: right;\">\n",
       "      <th></th>\n",
       "      <th>Proportion(%)</th>\n",
       "      <th>count</th>\n",
       "    </tr>\n",
       "    <tr>\n",
       "      <th>status</th>\n",
       "      <th></th>\n",
       "      <th></th>\n",
       "    </tr>\n",
       "  </thead>\n",
       "  <tbody>\n",
       "    <tr>\n",
       "      <th>Cancelled</th>\n",
       "      <td>14.35%</td>\n",
       "      <td>16291</td>\n",
       "    </tr>\n",
       "    <tr>\n",
       "      <th>Pending</th>\n",
       "      <td>0.47%</td>\n",
       "      <td>534</td>\n",
       "    </tr>\n",
       "    <tr>\n",
       "      <th>Pending - Waiting for Pick Up</th>\n",
       "      <td>0.22%</td>\n",
       "      <td>248</td>\n",
       "    </tr>\n",
       "    <tr>\n",
       "      <th>Shipped</th>\n",
       "      <td>60.63%</td>\n",
       "      <td>68837</td>\n",
       "    </tr>\n",
       "    <tr>\n",
       "      <th>Shipped - Damaged</th>\n",
       "      <td>0.0%</td>\n",
       "      <td>1</td>\n",
       "    </tr>\n",
       "    <tr>\n",
       "      <th>Shipped - Delivered to Buyer</th>\n",
       "      <td>21.85%</td>\n",
       "      <td>24812</td>\n",
       "    </tr>\n",
       "    <tr>\n",
       "      <th>Shipped - Lost in Transit</th>\n",
       "      <td>0.0%</td>\n",
       "      <td>3</td>\n",
       "    </tr>\n",
       "    <tr>\n",
       "      <th>Shipped - Out for Delivery</th>\n",
       "      <td>0.03%</td>\n",
       "      <td>29</td>\n",
       "    </tr>\n",
       "    <tr>\n",
       "      <th>Shipped - Picked Up</th>\n",
       "      <td>0.77%</td>\n",
       "      <td>875</td>\n",
       "    </tr>\n",
       "    <tr>\n",
       "      <th>Shipped - Rejected by Buyer</th>\n",
       "      <td>0.01%</td>\n",
       "      <td>11</td>\n",
       "    </tr>\n",
       "    <tr>\n",
       "      <th>Shipped - Returned to Seller</th>\n",
       "      <td>1.55%</td>\n",
       "      <td>1763</td>\n",
       "    </tr>\n",
       "    <tr>\n",
       "      <th>Shipped - Returning to Seller</th>\n",
       "      <td>0.11%</td>\n",
       "      <td>120</td>\n",
       "    </tr>\n",
       "    <tr>\n",
       "      <th>Shipping</th>\n",
       "      <td>0.01%</td>\n",
       "      <td>8</td>\n",
       "    </tr>\n",
       "  </tbody>\n",
       "</table>\n",
       "</div>"
      ],
      "text/plain": [
       "                              Proportion(%)  count\n",
       "status                                            \n",
       "Cancelled                            14.35%  16291\n",
       "Pending                               0.47%    534\n",
       "Pending - Waiting for Pick Up         0.22%    248\n",
       "Shipped                              60.63%  68837\n",
       "Shipped - Damaged                      0.0%      1\n",
       "Shipped - Delivered to Buyer         21.85%  24812\n",
       "Shipped - Lost in Transit              0.0%      3\n",
       "Shipped - Out for Delivery            0.03%     29\n",
       "Shipped - Picked Up                   0.77%    875\n",
       "Shipped - Rejected by Buyer           0.01%     11\n",
       "Shipped - Returned to Seller          1.55%   1763\n",
       "Shipped - Returning to Seller         0.11%    120\n",
       "Shipping                              0.01%      8"
      ]
     },
     "execution_count": 76,
     "metadata": {},
     "output_type": "execute_result"
    }
   ],
   "source": [
    "# change dtype of \"Proportion(%)\" column and concat string \"%\"\n",
    "status_proportion[\"Proportion(%)\"] = (\n",
    "    status_proportion[\"Proportion(%)\"].astype(str)\n",
    "    .str.cat(np.full(fill_value = \"%\",shape = (len(status_proportion),)))\n",
    ")\n",
    "status_proportion"
   ]
  },
  {
   "cell_type": "code",
   "execution_count": 77,
   "metadata": {},
   "outputs": [],
   "source": [
    "#keep only the rows with count > 1000\n",
    "status_proportion = status_proportion[status_proportion[\"count\"] > 1000]"
   ]
  },
  {
   "cell_type": "code",
   "execution_count": 78,
   "metadata": {},
   "outputs": [
    {
     "data": {
      "image/png": "[encoded data removed]",
      "text/plain": [
       "<Figure size 1000x500 with 1 Axes>"
      ]
     },
     "metadata": {},
     "output_type": "display_data"
    }
   ],
   "source": [
    "# Plot distribution of status\n",
    "# Plot a figure to represent data of the above table(dataframe)\n",
    "fig, ax = plt.subplots(figsize = (10,5))\n",
    "status_proportion.plot(kind = \"bar\",y = \"count\",ax = ax)\n",
    "plt.xlabel(\"status of the order\", fontsize = 13)\n",
    "#fit the x label and do not overlap with the xticks\n",
    "plt.tight_layout()\n",
    "plt.ylabel(\"Frequency [count]\",fontsize = 13)\n",
    "plt.yticks(ticks = range(20000,60001,20000))\n",
    "plt.title('Distribution of the column \"status\"', fontsize = 14,fontweight = 550)\n",
    "plt.xticks(rotation = \"horizontal\")\n",
    "plt.legend(\"\")\n",
    "for x,y in enumerate(status_proportion[\"count\"]):\n",
    "    qty_value = status_proportion.index[x]\n",
    "    plt.text(x,y+1500,status_proportion[\"Proportion(%)\"].loc[qty_value],\n",
    "            horizontalalignment = \"center\",fontweight = 700)\n",
    "plt.show()"
   ]
  },
  {
   "cell_type": "markdown",
   "metadata": {},
   "source": [
    "Observations:\n",
    "Feature 'status' exhibits significant class imbalance, with the majority of orders being \"Shipped\" (60.63%). Classes such as \"Cancelled\" (14.35%) and various low-frequency statuses, including some related to shipping issues, highlight potential challenges for accurate prediction. The presence of specific status categories related to returns and deliveries suggests the need for tailored strategies in managing logistics, customer satisfaction, and order processing."
   ]
  },
  {
   "cell_type": "markdown",
   "metadata": {},
   "source": [
    "Feature Analysis on 'qty'"
   ]
  },
  {
   "cell_type": "code",
   "execution_count": 35,
   "metadata": {},
   "outputs": [],
   "source": [
    "# create a pandas dataframe calculating the \n",
    "# porportion (and number of occurence) of the \"qty\" values\n",
    "\n",
    "# calculate the respective \"proportions\" of values in \"qty\" \n",
    "# and store it in a pandas.Series\n",
    "qty_proportion = round(amazonSaleRepDF[\"qty\"].value_counts(normalize = True)*100,2)\n"
   ]
  },
  {
   "cell_type": "code",
   "execution_count": 36,
   "metadata": {},
   "outputs": [
    {
     "data": {
      "text/html": [
       "<div>\n",
       "<style scoped>\n",
       "    .dataframe tbody tr th:only-of-type {\n",
       "        vertical-align: middle;\n",
       "    }\n",
       "\n",
       "    .dataframe tbody tr th {\n",
       "        vertical-align: top;\n",
       "    }\n",
       "\n",
       "    .dataframe thead th {\n",
       "        text-align: right;\n",
       "    }\n",
       "</style>\n",
       "<table border=\"1\" class=\"dataframe\">\n",
       "  <thead>\n",
       "    <tr style=\"text-align: right;\">\n",
       "      <th></th>\n",
       "      <th>Proportion(%)</th>\n",
       "    </tr>\n",
       "    <tr>\n",
       "      <th>qty</th>\n",
       "      <th></th>\n",
       "    </tr>\n",
       "  </thead>\n",
       "  <tbody>\n",
       "    <tr>\n",
       "      <th>0</th>\n",
       "      <td>10.02</td>\n",
       "    </tr>\n",
       "    <tr>\n",
       "      <th>1</th>\n",
       "      <td>89.72</td>\n",
       "    </tr>\n",
       "    <tr>\n",
       "      <th>2</th>\n",
       "      <td>0.23</td>\n",
       "    </tr>\n",
       "    <tr>\n",
       "      <th>3</th>\n",
       "      <td>0.02</td>\n",
       "    </tr>\n",
       "    <tr>\n",
       "      <th>4</th>\n",
       "      <td>0.01</td>\n",
       "    </tr>\n",
       "    <tr>\n",
       "      <th>5</th>\n",
       "      <td>0.00</td>\n",
       "    </tr>\n",
       "    <tr>\n",
       "      <th>9</th>\n",
       "      <td>0.00</td>\n",
       "    </tr>\n",
       "    <tr>\n",
       "      <th>13</th>\n",
       "      <td>0.00</td>\n",
       "    </tr>\n",
       "    <tr>\n",
       "      <th>15</th>\n",
       "      <td>0.00</td>\n",
       "    </tr>\n",
       "  </tbody>\n",
       "</table>\n",
       "</div>"
      ],
      "text/plain": [
       "     Proportion(%)\n",
       "qty               \n",
       "0            10.02\n",
       "1            89.72\n",
       "2             0.23\n",
       "3             0.02\n",
       "4             0.01\n",
       "5             0.00\n",
       "9             0.00\n",
       "13            0.00\n",
       "15            0.00"
      ]
     },
     "execution_count": 36,
     "metadata": {},
     "output_type": "execute_result"
    }
   ],
   "source": [
    "#  rename series with \"Proportion(%)\", sort by index and change to dateframe\n",
    "qty_proportion = qty_proportion.rename(\"Proportion(%)\").sort_index().to_frame()\n",
    "qty_proportion"
   ]
  },
  {
   "cell_type": "code",
   "execution_count": 37,
   "metadata": {},
   "outputs": [
    {
     "data": {
      "text/html": [
       "<div>\n",
       "<style scoped>\n",
       "    .dataframe tbody tr th:only-of-type {\n",
       "        vertical-align: middle;\n",
       "    }\n",
       "\n",
       "    .dataframe tbody tr th {\n",
       "        vertical-align: top;\n",
       "    }\n",
       "\n",
       "    .dataframe thead th {\n",
       "        text-align: right;\n",
       "    }\n",
       "</style>\n",
       "<table border=\"1\" class=\"dataframe\">\n",
       "  <thead>\n",
       "    <tr style=\"text-align: right;\">\n",
       "      <th></th>\n",
       "      <th>Proportion(%)</th>\n",
       "      <th>count</th>\n",
       "    </tr>\n",
       "    <tr>\n",
       "      <th>qty</th>\n",
       "      <th></th>\n",
       "      <th></th>\n",
       "    </tr>\n",
       "  </thead>\n",
       "  <tbody>\n",
       "    <tr>\n",
       "      <th>0</th>\n",
       "      <td>10.02</td>\n",
       "      <td>11376</td>\n",
       "    </tr>\n",
       "    <tr>\n",
       "      <th>1</th>\n",
       "      <td>89.72</td>\n",
       "      <td>101862</td>\n",
       "    </tr>\n",
       "    <tr>\n",
       "      <th>2</th>\n",
       "      <td>0.23</td>\n",
       "      <td>261</td>\n",
       "    </tr>\n",
       "    <tr>\n",
       "      <th>3</th>\n",
       "      <td>0.02</td>\n",
       "      <td>21</td>\n",
       "    </tr>\n",
       "    <tr>\n",
       "      <th>4</th>\n",
       "      <td>0.01</td>\n",
       "      <td>7</td>\n",
       "    </tr>\n",
       "    <tr>\n",
       "      <th>5</th>\n",
       "      <td>0.00</td>\n",
       "      <td>2</td>\n",
       "    </tr>\n",
       "    <tr>\n",
       "      <th>9</th>\n",
       "      <td>0.00</td>\n",
       "      <td>1</td>\n",
       "    </tr>\n",
       "    <tr>\n",
       "      <th>13</th>\n",
       "      <td>0.00</td>\n",
       "      <td>1</td>\n",
       "    </tr>\n",
       "    <tr>\n",
       "      <th>15</th>\n",
       "      <td>0.00</td>\n",
       "      <td>1</td>\n",
       "    </tr>\n",
       "  </tbody>\n",
       "</table>\n",
       "</div>"
      ],
      "text/plain": [
       "     Proportion(%)   count\n",
       "qty                       \n",
       "0            10.02   11376\n",
       "1            89.72  101862\n",
       "2             0.23     261\n",
       "3             0.02      21\n",
       "4             0.01       7\n",
       "5             0.00       2\n",
       "9             0.00       1\n",
       "13            0.00       1\n",
       "15            0.00       1"
      ]
     },
     "execution_count": 37,
     "metadata": {},
     "output_type": "execute_result"
    }
   ],
   "source": [
    "# add col \"count\"\n",
    "qty_proportion[\"count\"] = amazonSaleRepDF[\"qty\"].value_counts().sort_index()\n",
    "qty_proportion"
   ]
  },
  {
   "cell_type": "code",
   "execution_count": 38,
   "metadata": {},
   "outputs": [
    {
     "data": {
      "text/html": [
       "<div>\n",
       "<style scoped>\n",
       "    .dataframe tbody tr th:only-of-type {\n",
       "        vertical-align: middle;\n",
       "    }\n",
       "\n",
       "    .dataframe tbody tr th {\n",
       "        vertical-align: top;\n",
       "    }\n",
       "\n",
       "    .dataframe thead th {\n",
       "        text-align: right;\n",
       "    }\n",
       "</style>\n",
       "<table border=\"1\" class=\"dataframe\">\n",
       "  <thead>\n",
       "    <tr style=\"text-align: right;\">\n",
       "      <th></th>\n",
       "      <th>Proportion(%)</th>\n",
       "      <th>count</th>\n",
       "    </tr>\n",
       "    <tr>\n",
       "      <th>qty</th>\n",
       "      <th></th>\n",
       "      <th></th>\n",
       "    </tr>\n",
       "  </thead>\n",
       "  <tbody>\n",
       "    <tr>\n",
       "      <th>0</th>\n",
       "      <td>10.02%</td>\n",
       "      <td>11376</td>\n",
       "    </tr>\n",
       "    <tr>\n",
       "      <th>1</th>\n",
       "      <td>89.72%</td>\n",
       "      <td>101862</td>\n",
       "    </tr>\n",
       "    <tr>\n",
       "      <th>2</th>\n",
       "      <td>0.23%</td>\n",
       "      <td>261</td>\n",
       "    </tr>\n",
       "    <tr>\n",
       "      <th>3</th>\n",
       "      <td>0.02%</td>\n",
       "      <td>21</td>\n",
       "    </tr>\n",
       "    <tr>\n",
       "      <th>4</th>\n",
       "      <td>0.01%</td>\n",
       "      <td>7</td>\n",
       "    </tr>\n",
       "    <tr>\n",
       "      <th>5</th>\n",
       "      <td>0.0%</td>\n",
       "      <td>2</td>\n",
       "    </tr>\n",
       "    <tr>\n",
       "      <th>9</th>\n",
       "      <td>0.0%</td>\n",
       "      <td>1</td>\n",
       "    </tr>\n",
       "    <tr>\n",
       "      <th>13</th>\n",
       "      <td>0.0%</td>\n",
       "      <td>1</td>\n",
       "    </tr>\n",
       "    <tr>\n",
       "      <th>15</th>\n",
       "      <td>0.0%</td>\n",
       "      <td>1</td>\n",
       "    </tr>\n",
       "  </tbody>\n",
       "</table>\n",
       "</div>"
      ],
      "text/plain": [
       "    Proportion(%)   count\n",
       "qty                      \n",
       "0          10.02%   11376\n",
       "1          89.72%  101862\n",
       "2           0.23%     261\n",
       "3           0.02%      21\n",
       "4           0.01%       7\n",
       "5            0.0%       2\n",
       "9            0.0%       1\n",
       "13           0.0%       1\n",
       "15           0.0%       1"
      ]
     },
     "execution_count": 38,
     "metadata": {},
     "output_type": "execute_result"
    }
   ],
   "source": [
    "# change dtype of \"Proportion(%)\" column and concat string \"%\"\n",
    "qty_proportion[\"Proportion(%)\"] = (\n",
    "    qty_proportion[\"Proportion(%)\"].astype(str)\n",
    "    .str.cat(np.full(fill_value = \"%\",shape = (len(qty_proportion),)))\n",
    ")\n",
    "qty_proportion"
   ]
  },
  {
   "cell_type": "code",
   "execution_count": 39,
   "metadata": {},
   "outputs": [
    {
     "data": {
      "text/html": [
       "<div>\n",
       "<style scoped>\n",
       "    .dataframe tbody tr th:only-of-type {\n",
       "        vertical-align: middle;\n",
       "    }\n",
       "\n",
       "    .dataframe tbody tr th {\n",
       "        vertical-align: top;\n",
       "    }\n",
       "\n",
       "    .dataframe thead th {\n",
       "        text-align: right;\n",
       "    }\n",
       "</style>\n",
       "<table border=\"1\" class=\"dataframe\">\n",
       "  <thead>\n",
       "    <tr style=\"text-align: right;\">\n",
       "      <th></th>\n",
       "      <th>Proportion(%)</th>\n",
       "      <th>count</th>\n",
       "    </tr>\n",
       "    <tr>\n",
       "      <th>qty</th>\n",
       "      <th></th>\n",
       "      <th></th>\n",
       "    </tr>\n",
       "  </thead>\n",
       "  <tbody>\n",
       "    <tr>\n",
       "      <th>0</th>\n",
       "      <td>10.02%</td>\n",
       "      <td>11376</td>\n",
       "    </tr>\n",
       "    <tr>\n",
       "      <th>1</th>\n",
       "      <td>89.72%</td>\n",
       "      <td>101862</td>\n",
       "    </tr>\n",
       "    <tr>\n",
       "      <th>2</th>\n",
       "      <td>0.23%</td>\n",
       "      <td>261</td>\n",
       "    </tr>\n",
       "    <tr>\n",
       "      <th>3</th>\n",
       "      <td>0.02%</td>\n",
       "      <td>21</td>\n",
       "    </tr>\n",
       "    <tr>\n",
       "      <th>4</th>\n",
       "      <td>0.01%</td>\n",
       "      <td>7</td>\n",
       "    </tr>\n",
       "    <tr>\n",
       "      <th>5</th>\n",
       "      <td>0.0%</td>\n",
       "      <td>2</td>\n",
       "    </tr>\n",
       "  </tbody>\n",
       "</table>\n",
       "</div>"
      ],
      "text/plain": [
       "    Proportion(%)   count\n",
       "qty                      \n",
       "0          10.02%   11376\n",
       "1          89.72%  101862\n",
       "2           0.23%     261\n",
       "3           0.02%      21\n",
       "4           0.01%       7\n",
       "5            0.0%       2"
      ]
     },
     "execution_count": 39,
     "metadata": {},
     "output_type": "execute_result"
    }
   ],
   "source": [
    "#keep only the rows with count > 2\n",
    "qty_proportion = qty_proportion[qty_proportion[\"count\"] > 1]\n",
    "qty_proportion\n"
   ]
  },
  {
   "cell_type": "code",
   "execution_count": 41,
   "metadata": {},
   "outputs": [
    {
     "data": {
      "image/png": "[encoded data removed]",
      "text/plain": [
       "<Figure size 1000x500 with 1 Axes>"
      ]
     },
     "metadata": {},
     "output_type": "display_data"
    }
   ],
   "source": [
    "# Plot distribution of Quantity per order\n",
    "# Plot a figure to represent data of the above table(dataframe)\n",
    "fig, ax = plt.subplots(figsize = (10,5))\n",
    "qty_proportion.plot(kind = \"bar\",y = \"count\",ax = ax)\n",
    "plt.xlabel(\"Qty per order\", fontsize = 13)\n",
    "plt.ylabel(\"Frequency [count]\",fontsize = 13)\n",
    "plt.yticks(ticks = range(20000,60001,20000))\n",
    "plt.title('Distribution of the column \"qty\"', fontsize = 14,fontweight = 550)\n",
    "plt.xticks(rotation = \"horizontal\")\n",
    "plt.legend(\"\")\n",
    "for x,y in enumerate(qty_proportion[\"count\"]):\n",
    "    qty_value = qty_proportion.index[x]\n",
    "    plt.text(x,y+1500,qty_proportion[\"Proportion(%)\"].loc[qty_value],\n",
    "            horizontalalignment = \"center\",fontweight = 700)\n",
    "        \n",
    "plt.text(0,22000,' This is\\n assumed to\\n be \"NaN\" as\\n  Qty per order\\n  cannot be \\n \"0\"\\n↓',\n",
    "         horizontalalignment = \"center\",color = \"darkred\", fontsize = 13)\n",
    "plt.show()\n"
   ]
  },
  {
   "cell_type": "markdown",
   "metadata": {},
   "source": [
    "Observations:\n",
    "\n",
    "Feature \"qty\" is highly skewed (when assuming it as *continuous variable*), or\n",
    "It's highly imbalanced (when assuming it as *categorical variable*)\n",
    "It's logical to assume the value \"0\" as \"NaN\" (Null) because an order purchased cannot have quantity \"0\"\n",
    "More than 99% of datapoints have value \"1\" or \"NaN\" so it may not add much information in the analysis."
   ]
  }
 ],
 "metadata": {
  "kernelspec": {
   "display_name": "Python 3",
   "language": "python",
   "name": "python3"
  },
  "language_info": {
   "codemirror_mode": {
    "name": "ipython",
    "version": 3
   },
   "file_extension": ".py",
   "mimetype": "text/x-python",
   "name": "python",
   "nbconvert_exporter": "python",
   "pygments_lexer": "ipython3",
   "version": "3.11.4"
  }
 },
 "nbformat": 4,
 "nbformat_minor": 2
}
