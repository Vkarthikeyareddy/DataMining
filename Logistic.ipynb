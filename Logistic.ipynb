{
 "cells": [
  {
   "cell_type": "code",
   "execution_count": 2,
   "metadata": {},
   "outputs": [],
   "source": [
    "# Load necessary packages here:\n",
    "import os\n",
    "from sklearn.model_selection import train_test_split\n",
    "from sklearn.model_selection import train_test_split\n",
    "from sklearn.linear_model import LogisticRegression\n",
    "from sklearn.preprocessing import OneHotEncoder\n",
    "import pandas as pd"
   ]
  },
  {
   "cell_type": "code",
   "execution_count": 3,
   "metadata": {},
   "outputs": [],
   "source": [
    "# Set the working directory to your project folder\n",
    "os.chdir('C://Users//raksh//OneDrive//Desktop//UoA//Courses//Term 1//MIS 545 Data mining//anilsharma87-sales')"
   ]
  },
  {
   "cell_type": "code",
   "execution_count": 5,
   "metadata": {},
   "outputs": [],
   "source": [
    "# read excel file to a dataframe called amazon_sale\n",
    "\n",
    "amazon_sale = pd.read_excel('AmazonSale.xlsx')\n"
   ]
  },
  {
   "cell_type": "code",
   "execution_count": 6,
   "metadata": {},
   "outputs": [
    {
     "name": "stdout",
     "output_type": "stream",
     "text": [
      "              Order ID       Date                        Status Fulfilment  \\\n",
      "0  405-8078784-5731545 2022-04-30                     Cancelled   Merchant   \n",
      "1  171-9198151-1101146 2022-04-30  Shipped - Delivered to Buyer   Merchant   \n",
      "2  404-0687676-7273146 2022-04-30                       Shipped     Amazon   \n",
      "3  403-9615377-8133951 2022-04-30                     Cancelled   Merchant   \n",
      "4  407-1069790-7240320 2022-04-30                       Shipped     Amazon   \n",
      "\n",
      "  Sales Channel  ship-service-level    Style              SKU       Category  \\\n",
      "0      Amazon.in           Standard   SET389   SET389-KR-NP-S            Set   \n",
      "1      Amazon.in           Standard  JNE3781  JNE3781-KR-XXXL          kurta   \n",
      "2      Amazon.in          Expedited  JNE3371    JNE3371-KR-XL          kurta   \n",
      "3      Amazon.in           Standard    J0341       J0341-DR-L  Western Dress   \n",
      "4      Amazon.in          Expedited  JNE3671  JNE3671-TU-XXXL            Top   \n",
      "\n",
      "  Size  ... currency  Amount    ship-city   ship-state  ship-postal-code  \\\n",
      "0    S  ...      INR  647.62       MUMBAI  MAHARASHTRA          400081.0   \n",
      "1  3XL  ...      INR  406.00    BENGALURU    KARNATAKA          560085.0   \n",
      "2   XL  ...      INR  329.00  NAVI MUMBAI  MAHARASHTRA          410210.0   \n",
      "3    L  ...      INR  753.33   PUDUCHERRY   PUDUCHERRY          605008.0   \n",
      "4  3XL  ...      INR  574.00      CHENNAI   TAMIL NADU          600073.0   \n",
      "\n",
      "  ship-country                                      promotion-ids    B2B  \\\n",
      "0           IN                                                NaN  False   \n",
      "1           IN  Amazon PLCC Free-Financing Universal Merchant ...  False   \n",
      "2           IN       IN Core Free Shipping 2015/04/08 23-48-5-108   True   \n",
      "3           IN                                                NaN  False   \n",
      "4           IN                                                NaN  False   \n",
      "\n",
      "  fulfilled-by Unnamed: 22  \n",
      "0    Easy Ship         NaN  \n",
      "1    Easy Ship         NaN  \n",
      "2          NaN         NaN  \n",
      "3    Easy Ship         NaN  \n",
      "4          NaN         NaN  \n",
      "\n",
      "[5 rows x 23 columns]\n"
     ]
    }
   ],
   "source": [
    "# print the first 5 rows of the dataframe\n",
    "\n",
    "print(amazon_sale.head())\n"
   ]
  },
  {
   "cell_type": "code",
   "execution_count": 7,
   "metadata": {},
   "outputs": [
    {
     "name": "stdout",
     "output_type": "stream",
     "text": [
      "Index(['Order ID', 'Date', 'Status', 'Fulfilment', 'Sales Channel ',\n",
      "       'ship-service-level', 'Style', 'SKU', 'Category', 'Size', 'ASIN',\n",
      "       'Courier Status', 'Qty', 'currency', 'Amount', 'ship-city',\n",
      "       'ship-state', 'ship-postal-code', 'ship-country', 'promotion-ids',\n",
      "       'B2B', 'fulfilled-by', 'Unnamed: 22'],\n",
      "      dtype='object')\n"
     ]
    }
   ],
   "source": [
    "# get all the column names\n",
    "\n",
    "print(amazon_sale.columns)\n"
   ]
  },
  {
   "cell_type": "code",
   "execution_count": 8,
   "metadata": {},
   "outputs": [],
   "source": [
    "# create a data frame and read the data from the excel file\n",
    "\n",
    "amazon_sale = pd.DataFrame(pd.read_excel('AmazonSale.xlsx'))"
   ]
  },
  {
   "cell_type": "code",
   "execution_count": 9,
   "metadata": {},
   "outputs": [
    {
     "name": "stdout",
     "output_type": "stream",
     "text": [
      "              Order ID       Date                        Status Fulfilment  \\\n",
      "0  405-8078784-5731545 2022-04-30                     Cancelled   Merchant   \n",
      "1  171-9198151-1101146 2022-04-30  Shipped - Delivered to Buyer   Merchant   \n",
      "2  404-0687676-7273146 2022-04-30                       Shipped     Amazon   \n",
      "3  403-9615377-8133951 2022-04-30                     Cancelled   Merchant   \n",
      "4  407-1069790-7240320 2022-04-30                       Shipped     Amazon   \n",
      "\n",
      "  Sales Channel  ship-service-level    Style              SKU       Category  \\\n",
      "0      Amazon.in           Standard   SET389   SET389-KR-NP-S            Set   \n",
      "1      Amazon.in           Standard  JNE3781  JNE3781-KR-XXXL          kurta   \n",
      "2      Amazon.in          Expedited  JNE3371    JNE3371-KR-XL          kurta   \n",
      "3      Amazon.in           Standard    J0341       J0341-DR-L  Western Dress   \n",
      "4      Amazon.in          Expedited  JNE3671  JNE3671-TU-XXXL            Top   \n",
      "\n",
      "  Size  ... currency  Amount    ship-city   ship-state  ship-postal-code  \\\n",
      "0    S  ...      INR  647.62       MUMBAI  MAHARASHTRA          400081.0   \n",
      "1  3XL  ...      INR  406.00    BENGALURU    KARNATAKA          560085.0   \n",
      "2   XL  ...      INR  329.00  NAVI MUMBAI  MAHARASHTRA          410210.0   \n",
      "3    L  ...      INR  753.33   PUDUCHERRY   PUDUCHERRY          605008.0   \n",
      "4  3XL  ...      INR  574.00      CHENNAI   TAMIL NADU          600073.0   \n",
      "\n",
      "  ship-country                                      promotion-ids    B2B  \\\n",
      "0           IN                                                NaN  False   \n",
      "1           IN  Amazon PLCC Free-Financing Universal Merchant ...  False   \n",
      "2           IN       IN Core Free Shipping 2015/04/08 23-48-5-108   True   \n",
      "3           IN                                                NaN  False   \n",
      "4           IN                                                NaN  False   \n",
      "\n",
      "  fulfilled-by Unnamed: 22  \n",
      "0    Easy Ship         NaN  \n",
      "1    Easy Ship         NaN  \n",
      "2          NaN         NaN  \n",
      "3    Easy Ship         NaN  \n",
      "4          NaN         NaN  \n",
      "\n",
      "[5 rows x 23 columns]\n"
     ]
    }
   ],
   "source": [
    "# print the first 5 rows of the dataframe\n",
    "\n",
    "print(amazon_sale.head())"
   ]
  },
  {
   "cell_type": "code",
   "execution_count": 10,
   "metadata": {},
   "outputs": [],
   "source": [
    "# remove the rows with Status = 'Cancelled'\n",
    "\n",
    "amazon_sale = amazon_sale[amazon_sale['Status'] != 'Cancelled']\n"
   ]
  },
  {
   "cell_type": "code",
   "execution_count": 11,
   "metadata": {},
   "outputs": [
    {
     "name": "stdout",
     "output_type": "stream",
     "text": [
      "              Order ID       Date                        Status Fulfilment  \\\n",
      "1  171-9198151-1101146 2022-04-30  Shipped - Delivered to Buyer   Merchant   \n",
      "2  404-0687676-7273146 2022-04-30                       Shipped     Amazon   \n",
      "4  407-1069790-7240320 2022-04-30                       Shipped     Amazon   \n",
      "5  404-1490984-4578765 2022-04-30                       Shipped     Amazon   \n",
      "6  408-5748499-6859555 2022-04-30                       Shipped     Amazon   \n",
      "\n",
      "  Sales Channel  ship-service-level    Style              SKU Category Size  \\\n",
      "1      Amazon.in           Standard  JNE3781  JNE3781-KR-XXXL    kurta  3XL   \n",
      "2      Amazon.in          Expedited  JNE3371    JNE3371-KR-XL    kurta   XL   \n",
      "4      Amazon.in          Expedited  JNE3671  JNE3671-TU-XXXL      Top  3XL   \n",
      "5      Amazon.in          Expedited   SET264  SET264-KR-NP-XL      Set   XL   \n",
      "6      Amazon.in          Expedited    J0095      J0095-SET-L      Set    L   \n",
      "\n",
      "   ... currency Amount    ship-city     ship-state  ship-postal-code  \\\n",
      "1  ...      INR  406.0    BENGALURU      KARNATAKA          560085.0   \n",
      "2  ...      INR  329.0  NAVI MUMBAI    MAHARASHTRA          410210.0   \n",
      "4  ...      INR  574.0      CHENNAI     TAMIL NADU          600073.0   \n",
      "5  ...      INR  824.0    GHAZIABAD  UTTAR PRADESH          201102.0   \n",
      "6  ...      INR  653.0   CHANDIGARH     CHANDIGARH          160036.0   \n",
      "\n",
      "  ship-country                                      promotion-ids    B2B  \\\n",
      "1           IN  Amazon PLCC Free-Financing Universal Merchant ...  False   \n",
      "2           IN       IN Core Free Shipping 2015/04/08 23-48-5-108   True   \n",
      "4           IN                                                NaN  False   \n",
      "5           IN       IN Core Free Shipping 2015/04/08 23-48-5-108  False   \n",
      "6           IN       IN Core Free Shipping 2015/04/08 23-48-5-108  False   \n",
      "\n",
      "  fulfilled-by Unnamed: 22  \n",
      "1    Easy Ship         NaN  \n",
      "2          NaN         NaN  \n",
      "4          NaN         NaN  \n",
      "5          NaN         NaN  \n",
      "6          NaN         NaN  \n",
      "\n",
      "[5 rows x 23 columns]\n"
     ]
    }
   ],
   "source": [
    "#print the first 5 rows of the dataframe\n",
    "\n",
    "print(amazon_sale.head())\n"
   ]
  },
  {
   "cell_type": "code",
   "execution_count": 12,
   "metadata": {},
   "outputs": [],
   "source": [
    "# remove the space in the column names\n",
    "\n",
    "amazon_sale.columns = amazon_sale.columns.str.replace('_', '').str.replace('-','').str.replace(' ','')\n"
   ]
  },
  {
   "cell_type": "code",
   "execution_count": 13,
   "metadata": {},
   "outputs": [],
   "source": [
    "# convert the column names to lower case\n",
    "\n",
    "amazon_sale.columns = amazon_sale.columns.str.lower()"
   ]
  },
  {
   "cell_type": "code",
   "execution_count": 14,
   "metadata": {},
   "outputs": [],
   "source": [
    "# create a new data frame called as popularityDF with the following columns orderid, status, style, date, qty, and sku\n",
    "\n",
    "popularDF = amazon_sale[['orderid', 'status', 'style', 'date', 'qty', 'sku']]"
   ]
  },
  {
   "cell_type": "code",
   "execution_count": 15,
   "metadata": {},
   "outputs": [
    {
     "name": "stdout",
     "output_type": "stream",
     "text": [
      "               orderid                        status    style       date  qty  \\\n",
      "1  171-9198151-1101146  Shipped - Delivered to Buyer  JNE3781 2022-04-30    1   \n",
      "2  404-0687676-7273146                       Shipped  JNE3371 2022-04-30    1   \n",
      "4  407-1069790-7240320                       Shipped  JNE3671 2022-04-30    1   \n",
      "5  404-1490984-4578765                       Shipped   SET264 2022-04-30    1   \n",
      "6  408-5748499-6859555                       Shipped    J0095 2022-04-30    1   \n",
      "\n",
      "               sku  \n",
      "1  JNE3781-KR-XXXL  \n",
      "2    JNE3371-KR-XL  \n",
      "4  JNE3671-TU-XXXL  \n",
      "5  SET264-KR-NP-XL  \n",
      "6      J0095-SET-L  \n"
     ]
    }
   ],
   "source": [
    "# print the first 5 rows of the dataframe\n",
    "\n",
    "print(popularDF.head())"
   ]
  },
  {
   "cell_type": "code",
   "execution_count": 16,
   "metadata": {},
   "outputs": [
    {
     "name": "stdout",
     "output_type": "stream",
     "text": [
      "orderid    0\n",
      "status     0\n",
      "style      0\n",
      "date       0\n",
      "qty        0\n",
      "sku        0\n",
      "dtype: int64\n"
     ]
    }
   ],
   "source": [
    "#check for null values and remove them\n",
    "\n",
    "print(popularDF.isnull().sum())"
   ]
  },
  {
   "cell_type": "code",
   "execution_count": 17,
   "metadata": {},
   "outputs": [],
   "source": [
    "#drop duplicates\n",
    "\n",
    "popularDF = popularDF.drop_duplicates()"
   ]
  },
  {
   "cell_type": "code",
   "execution_count": 18,
   "metadata": {},
   "outputs": [
    {
     "name": "stdout",
     "output_type": "stream",
     "text": [
      "               orderid                        status    style       date  qty  \\\n",
      "1  171-9198151-1101146  Shipped - Delivered to Buyer  JNE3781 2022-04-30    1   \n",
      "2  404-0687676-7273146                       Shipped  JNE3371 2022-04-30    1   \n",
      "4  407-1069790-7240320                       Shipped  JNE3671 2022-04-30    1   \n",
      "5  404-1490984-4578765                       Shipped   SET264 2022-04-30    1   \n",
      "6  408-5748499-6859555                       Shipped    J0095 2022-04-30    1   \n",
      "\n",
      "               sku  \n",
      "1  JNE3781-KR-XXXL  \n",
      "2    JNE3371-KR-XL  \n",
      "4  JNE3671-TU-XXXL  \n",
      "5  SET264-KR-NP-XL  \n",
      "6      J0095-SET-L  \n"
     ]
    }
   ],
   "source": [
    "#print the first 5 rows of the dataframe\n",
    "\n",
    "print(popularDF.head())"
   ]
  },
  {
   "cell_type": "code",
   "execution_count": 19,
   "metadata": {},
   "outputs": [
    {
     "name": "stdout",
     "output_type": "stream",
     "text": [
      "                                date            qty\n",
      "count                         110640  110640.000000\n",
      "mean   2022-05-12 14:01:42.299349504       1.003154\n",
      "min              2022-03-31 00:00:00       0.000000\n",
      "25%              2022-04-20 00:00:00       1.000000\n",
      "50%              2022-05-10 00:00:00       1.000000\n",
      "75%              2022-06-04 00:00:00       1.000000\n",
      "max              2022-06-29 00:00:00      15.000000\n",
      "std                              NaN       0.100339\n"
     ]
    }
   ],
   "source": [
    "#show summary statistics of the dataframe\n",
    "\n",
    "print(popularDF.describe())"
   ]
  },
  {
   "cell_type": "code",
   "execution_count": 20,
   "metadata": {},
   "outputs": [],
   "source": [
    "# aggregate the data to find number of transactions per sku\n",
    "\n",
    "product_transactions = popularDF['sku'].value_counts()"
   ]
  },
  {
   "cell_type": "code",
   "execution_count": 21,
   "metadata": {},
   "outputs": [
    {
     "data": {
      "text/plain": [
       "7.0"
      ]
     },
     "execution_count": 21,
     "metadata": {},
     "output_type": "execute_result"
    }
   ],
   "source": [
    "# determine the threshold for popular products\n",
    "\n",
    "threshold = product_transactions.median()\n",
    "threshold"
   ]
  },
  {
   "cell_type": "code",
   "execution_count": 22,
   "metadata": {},
   "outputs": [],
   "source": [
    "# Create a binary target variable \"ispopular\" for popular products\n",
    "\n",
    "popularDF['ispopular'] = popularDF['sku'].apply(lambda x: 1 if product_transactions[x] > threshold else 0)\n",
    "\n"
   ]
  },
  {
   "cell_type": "code",
   "execution_count": 23,
   "metadata": {},
   "outputs": [],
   "source": [
    "#import LabelEncoder\n",
    "\n",
    "from sklearn.preprocessing import LabelEncoder\n",
    "# Encode style and sku columns\n",
    "\n",
    "le_style = LabelEncoder()\n",
    "le_sku = LabelEncoder()\n",
    "popularDF['Style_Encoded'] = le_style.fit_transform(popularDF['style'])\n",
    "popularDF['SKU_Encoded'] = le_sku.fit_transform(popularDF['sku'])"
   ]
  },
  {
   "cell_type": "code",
   "execution_count": 24,
   "metadata": {},
   "outputs": [
    {
     "name": "stdout",
     "output_type": "stream",
     "text": [
      "               orderid                        status    style       date  qty  \\\n",
      "1  171-9198151-1101146  Shipped - Delivered to Buyer  JNE3781 2022-04-30    1   \n",
      "2  404-0687676-7273146                       Shipped  JNE3371 2022-04-30    1   \n",
      "4  407-1069790-7240320                       Shipped  JNE3671 2022-04-30    1   \n",
      "5  404-1490984-4578765                       Shipped   SET264 2022-04-30    1   \n",
      "6  408-5748499-6859555                       Shipped    J0095 2022-04-30    1   \n",
      "\n",
      "               sku  ispopular  Style_Encoded  SKU_Encoded  \n",
      "1  JNE3781-KR-XXXL          1            845         4387  \n",
      "2    JNE3371-KR-XL          1            531         2596  \n",
      "4  JNE3671-TU-XXXL          1            752         3790  \n",
      "5  SET264-KR-NP-XL          1           1230         6207  \n",
      "6      J0095-SET-L          1            179          650  \n"
     ]
    }
   ],
   "source": [
    "#display first 5 rows of the dataframe\n",
    "\n",
    "print(popularDF.head())"
   ]
  },
  {
   "cell_type": "code",
   "execution_count": 25,
   "metadata": {},
   "outputs": [],
   "source": [
    "# Select orderid, status, style, date, qty, and sku as features and popularity as target\n",
    "\n",
    "features = popularDF[['Style_Encoded', 'qty', 'SKU_Encoded']]\n",
    "target = popularDF['ispopular']"
   ]
  },
  {
   "cell_type": "code",
   "execution_count": 26,
   "metadata": {},
   "outputs": [],
   "source": [
    "# Splitting data into training and testing sets\n",
    "X_train, X_test, y_train, y_test = train_test_split(features, target, test_size=0.3, random_state=42)"
   ]
  },
  {
   "cell_type": "code",
   "execution_count": 27,
   "metadata": {},
   "outputs": [
    {
     "data": {
      "text/html": [
       "<style>#sk-container-id-1 {color: black;}#sk-container-id-1 pre{padding: 0;}#sk-container-id-1 div.sk-toggleable {background-color: white;}#sk-container-id-1 label.sk-toggleable__label {cursor: pointer;display: block;width: 100%;margin-bottom: 0;padding: 0.3em;box-sizing: border-box;text-align: center;}#sk-container-id-1 label.sk-toggleable__label-arrow:before {content: \"▸\";float: left;margin-right: 0.25em;color: #696969;}#sk-container-id-1 label.sk-toggleable__label-arrow:hover:before {color: black;}#sk-container-id-1 div.sk-estimator:hover label.sk-toggleable__label-arrow:before {color: black;}#sk-container-id-1 div.sk-toggleable__content {max-height: 0;max-width: 0;overflow: hidden;text-align: left;background-color: #f0f8ff;}#sk-container-id-1 div.sk-toggleable__content pre {margin: 0.2em;color: black;border-radius: 0.25em;background-color: #f0f8ff;}#sk-container-id-1 input.sk-toggleable__control:checked~div.sk-toggleable__content {max-height: 200px;max-width: 100%;overflow: auto;}#sk-container-id-1 input.sk-toggleable__control:checked~label.sk-toggleable__label-arrow:before {content: \"▾\";}#sk-container-id-1 div.sk-estimator input.sk-toggleable__control:checked~label.sk-toggleable__label {background-color: #d4ebff;}#sk-container-id-1 div.sk-label input.sk-toggleable__control:checked~label.sk-toggleable__label {background-color: #d4ebff;}#sk-container-id-1 input.sk-hidden--visually {border: 0;clip: rect(1px 1px 1px 1px);clip: rect(1px, 1px, 1px, 1px);height: 1px;margin: -1px;overflow: hidden;padding: 0;position: absolute;width: 1px;}#sk-container-id-1 div.sk-estimator {font-family: monospace;background-color: #f0f8ff;border: 1px dotted black;border-radius: 0.25em;box-sizing: border-box;margin-bottom: 0.5em;}#sk-container-id-1 div.sk-estimator:hover {background-color: #d4ebff;}#sk-container-id-1 div.sk-parallel-item::after {content: \"\";width: 100%;border-bottom: 1px solid gray;flex-grow: 1;}#sk-container-id-1 div.sk-label:hover label.sk-toggleable__label {background-color: #d4ebff;}#sk-container-id-1 div.sk-serial::before {content: \"\";position: absolute;border-left: 1px solid gray;box-sizing: border-box;top: 0;bottom: 0;left: 50%;z-index: 0;}#sk-container-id-1 div.sk-serial {display: flex;flex-direction: column;align-items: center;background-color: white;padding-right: 0.2em;padding-left: 0.2em;position: relative;}#sk-container-id-1 div.sk-item {position: relative;z-index: 1;}#sk-container-id-1 div.sk-parallel {display: flex;align-items: stretch;justify-content: center;background-color: white;position: relative;}#sk-container-id-1 div.sk-item::before, #sk-container-id-1 div.sk-parallel-item::before {content: \"\";position: absolute;border-left: 1px solid gray;box-sizing: border-box;top: 0;bottom: 0;left: 50%;z-index: -1;}#sk-container-id-1 div.sk-parallel-item {display: flex;flex-direction: column;z-index: 1;position: relative;background-color: white;}#sk-container-id-1 div.sk-parallel-item:first-child::after {align-self: flex-end;width: 50%;}#sk-container-id-1 div.sk-parallel-item:last-child::after {align-self: flex-start;width: 50%;}#sk-container-id-1 div.sk-parallel-item:only-child::after {width: 0;}#sk-container-id-1 div.sk-dashed-wrapped {border: 1px dashed gray;margin: 0 0.4em 0.5em 0.4em;box-sizing: border-box;padding-bottom: 0.4em;background-color: white;}#sk-container-id-1 div.sk-label label {font-family: monospace;font-weight: bold;display: inline-block;line-height: 1.2em;}#sk-container-id-1 div.sk-label-container {text-align: center;}#sk-container-id-1 div.sk-container {/* jupyter's `normalize.less` sets `[hidden] { display: none; }` but bootstrap.min.css set `[hidden] { display: none !important; }` so we also need the `!important` here to be able to override the default hidden behavior on the sphinx rendered scikit-learn.org. See: https://github.com/scikit-learn/scikit-learn/issues/21755 */display: inline-block !important;position: relative;}#sk-container-id-1 div.sk-text-repr-fallback {display: none;}</style><div id=\"sk-container-id-1\" class=\"sk-top-container\"><div class=\"sk-text-repr-fallback\"><pre>LogisticRegression(max_iter=1000)</pre><b>In a Jupyter environment, please rerun this cell to show the HTML representation or trust the notebook. <br />On GitHub, the HTML representation is unable to render, please try loading this page with nbviewer.org.</b></div><div class=\"sk-container\" hidden><div class=\"sk-item\"><div class=\"sk-estimator sk-toggleable\"><input class=\"sk-toggleable__control sk-hidden--visually\" id=\"sk-estimator-id-1\" type=\"checkbox\" checked><label for=\"sk-estimator-id-1\" class=\"sk-toggleable__label sk-toggleable__label-arrow\">LogisticRegression</label><div class=\"sk-toggleable__content\"><pre>LogisticRegression(max_iter=1000)</pre></div></div></div></div></div>"
      ],
      "text/plain": [
       "LogisticRegression(max_iter=1000)"
      ]
     },
     "execution_count": 27,
     "metadata": {},
     "output_type": "execute_result"
    }
   ],
   "source": [
    "# Creating and training the logistic regression model\n",
    "model = LogisticRegression(max_iter=1000)\n",
    "model.fit(X_train, y_train)"
   ]
  },
  {
   "cell_type": "code",
   "execution_count": 33,
   "metadata": {},
   "outputs": [],
   "source": [
    "from sklearn.utils import resample\n",
    "\n",
    "# Combine training data back for resampling\n",
    "X = pd.concat([X_train, y_train], axis=1)\n",
    "\n",
    "# Separate majority and minority classes\n",
    "majority = X[X.ispopular == 1]\n",
    "minority = X[X.ispopular == 0]\n",
    "\n",
    "# Upsample minority class\n",
    "minority_upsampled = resample(minority,\n",
    "                              replace=True,     # Sample with replacement\n",
    "                              n_samples=len(majority),    # to match majority class\n",
    "                              random_state=42)   # reproducible results\n",
    "\n",
    "# Combine majority class with upsampled minority class\n",
    "upsampled = pd.concat([majority, minority_upsampled])\n",
    "\n",
    "# Split upsampled data into X and y sets\n",
    "X_train_upsampled = upsampled.drop('ispopular', axis=1)\n",
    "y_train_upsampled = upsampled.ispopular\n"
   ]
  },
  {
   "cell_type": "code",
   "execution_count": 34,
   "metadata": {},
   "outputs": [
    {
     "data": {
      "text/html": [
       "<style>#sk-container-id-2 {color: black;}#sk-container-id-2 pre{padding: 0;}#sk-container-id-2 div.sk-toggleable {background-color: white;}#sk-container-id-2 label.sk-toggleable__label {cursor: pointer;display: block;width: 100%;margin-bottom: 0;padding: 0.3em;box-sizing: border-box;text-align: center;}#sk-container-id-2 label.sk-toggleable__label-arrow:before {content: \"▸\";float: left;margin-right: 0.25em;color: #696969;}#sk-container-id-2 label.sk-toggleable__label-arrow:hover:before {color: black;}#sk-container-id-2 div.sk-estimator:hover label.sk-toggleable__label-arrow:before {color: black;}#sk-container-id-2 div.sk-toggleable__content {max-height: 0;max-width: 0;overflow: hidden;text-align: left;background-color: #f0f8ff;}#sk-container-id-2 div.sk-toggleable__content pre {margin: 0.2em;color: black;border-radius: 0.25em;background-color: #f0f8ff;}#sk-container-id-2 input.sk-toggleable__control:checked~div.sk-toggleable__content {max-height: 200px;max-width: 100%;overflow: auto;}#sk-container-id-2 input.sk-toggleable__control:checked~label.sk-toggleable__label-arrow:before {content: \"▾\";}#sk-container-id-2 div.sk-estimator input.sk-toggleable__control:checked~label.sk-toggleable__label {background-color: #d4ebff;}#sk-container-id-2 div.sk-label input.sk-toggleable__control:checked~label.sk-toggleable__label {background-color: #d4ebff;}#sk-container-id-2 input.sk-hidden--visually {border: 0;clip: rect(1px 1px 1px 1px);clip: rect(1px, 1px, 1px, 1px);height: 1px;margin: -1px;overflow: hidden;padding: 0;position: absolute;width: 1px;}#sk-container-id-2 div.sk-estimator {font-family: monospace;background-color: #f0f8ff;border: 1px dotted black;border-radius: 0.25em;box-sizing: border-box;margin-bottom: 0.5em;}#sk-container-id-2 div.sk-estimator:hover {background-color: #d4ebff;}#sk-container-id-2 div.sk-parallel-item::after {content: \"\";width: 100%;border-bottom: 1px solid gray;flex-grow: 1;}#sk-container-id-2 div.sk-label:hover label.sk-toggleable__label {background-color: #d4ebff;}#sk-container-id-2 div.sk-serial::before {content: \"\";position: absolute;border-left: 1px solid gray;box-sizing: border-box;top: 0;bottom: 0;left: 50%;z-index: 0;}#sk-container-id-2 div.sk-serial {display: flex;flex-direction: column;align-items: center;background-color: white;padding-right: 0.2em;padding-left: 0.2em;position: relative;}#sk-container-id-2 div.sk-item {position: relative;z-index: 1;}#sk-container-id-2 div.sk-parallel {display: flex;align-items: stretch;justify-content: center;background-color: white;position: relative;}#sk-container-id-2 div.sk-item::before, #sk-container-id-2 div.sk-parallel-item::before {content: \"\";position: absolute;border-left: 1px solid gray;box-sizing: border-box;top: 0;bottom: 0;left: 50%;z-index: -1;}#sk-container-id-2 div.sk-parallel-item {display: flex;flex-direction: column;z-index: 1;position: relative;background-color: white;}#sk-container-id-2 div.sk-parallel-item:first-child::after {align-self: flex-end;width: 50%;}#sk-container-id-2 div.sk-parallel-item:last-child::after {align-self: flex-start;width: 50%;}#sk-container-id-2 div.sk-parallel-item:only-child::after {width: 0;}#sk-container-id-2 div.sk-dashed-wrapped {border: 1px dashed gray;margin: 0 0.4em 0.5em 0.4em;box-sizing: border-box;padding-bottom: 0.4em;background-color: white;}#sk-container-id-2 div.sk-label label {font-family: monospace;font-weight: bold;display: inline-block;line-height: 1.2em;}#sk-container-id-2 div.sk-label-container {text-align: center;}#sk-container-id-2 div.sk-container {/* jupyter's `normalize.less` sets `[hidden] { display: none; }` but bootstrap.min.css set `[hidden] { display: none !important; }` so we also need the `!important` here to be able to override the default hidden behavior on the sphinx rendered scikit-learn.org. See: https://github.com/scikit-learn/scikit-learn/issues/21755 */display: inline-block !important;position: relative;}#sk-container-id-2 div.sk-text-repr-fallback {display: none;}</style><div id=\"sk-container-id-2\" class=\"sk-top-container\"><div class=\"sk-text-repr-fallback\"><pre>LogisticRegression(class_weight=&#x27;balanced&#x27;, max_iter=1000)</pre><b>In a Jupyter environment, please rerun this cell to show the HTML representation or trust the notebook. <br />On GitHub, the HTML representation is unable to render, please try loading this page with nbviewer.org.</b></div><div class=\"sk-container\" hidden><div class=\"sk-item\"><div class=\"sk-estimator sk-toggleable\"><input class=\"sk-toggleable__control sk-hidden--visually\" id=\"sk-estimator-id-2\" type=\"checkbox\" checked><label for=\"sk-estimator-id-2\" class=\"sk-toggleable__label sk-toggleable__label-arrow\">LogisticRegression</label><div class=\"sk-toggleable__content\"><pre>LogisticRegression(class_weight=&#x27;balanced&#x27;, max_iter=1000)</pre></div></div></div></div></div>"
      ],
      "text/plain": [
       "LogisticRegression(class_weight='balanced', max_iter=1000)"
      ]
     },
     "execution_count": 34,
     "metadata": {},
     "output_type": "execute_result"
    }
   ],
   "source": [
    "from sklearn.linear_model import LogisticRegression\n",
    "\n",
    "# Creating and training the logistic regression model with class weight adjustment\n",
    "model = LogisticRegression(class_weight='balanced', max_iter=1000)\n",
    "model.fit(X_train_upsampled, y_train_upsampled)\n"
   ]
  },
  {
   "cell_type": "code",
   "execution_count": 35,
   "metadata": {},
   "outputs": [],
   "source": [
    "from sklearn.metrics import classification_report, confusion_matrix"
   ]
  },
  {
   "cell_type": "code",
   "execution_count": 36,
   "metadata": {},
   "outputs": [],
   "source": [
    "# Predicting and evaluating the model\n",
    "predictions = model.predict(X_test)\n",
    "report = classification_report(y_test, predictions)\n",
    "conf_matrix = confusion_matrix(y_test, predictions)"
   ]
  },
  {
   "cell_type": "code",
   "execution_count": 37,
   "metadata": {},
   "outputs": [
    {
     "name": "stdout",
     "output_type": "stream",
     "text": [
      "              precision    recall  f1-score   support\n",
      "\n",
      "           0       0.13      0.52      0.21      3810\n",
      "           1       0.90      0.56      0.69     29382\n",
      "\n",
      "    accuracy                           0.56     33192\n",
      "   macro avg       0.52      0.54      0.45     33192\n",
      "weighted avg       0.81      0.56      0.64     33192\n",
      "\n",
      "[[ 1969  1841]\n",
      " [12803 16579]]\n"
     ]
    }
   ],
   "source": [
    "#display classification report and confusion matrix\n",
    "print(report)\n",
    "print(conf_matrix)"
   ]
  },
  {
   "cell_type": "code",
   "execution_count": 38,
   "metadata": {},
   "outputs": [
    {
     "data": {
      "image/png": "[encoded data removed]",
      "text/plain": [
       "<Figure size 640x480 with 2 Axes>"
      ]
     },
     "metadata": {},
     "output_type": "display_data"
    }
   ],
   "source": [
    "#visualize the confusion matrix and give labels\n",
    "import seaborn as sns\n",
    "import matplotlib.pyplot as plt\n",
    "sns.heatmap(conf_matrix, annot=True, cmap=\"YlGnBu\")\n",
    "plt.ylabel('Actual')\n",
    "plt.xlabel('Predicted')\n",
    "plt.show()\n"
   ]
  },
  {
   "cell_type": "code",
   "execution_count": 40,
   "metadata": {},
   "outputs": [
    {
     "name": "stdout",
     "output_type": "stream",
     "text": [
      "[[-0.00638861 -0.00015128  0.00128121]]\n"
     ]
    }
   ],
   "source": [
    "#display the coefficients of the model with labels\n",
    "print(model.coef_)\n"
   ]
  }
 ],
 "metadata": {
  "kernelspec": {
   "display_name": "Python 3",
   "language": "python",
   "name": "python3"
  },
  "language_info": {
   "codemirror_mode": {
    "name": "ipython",
    "version": 3
   },
   "file_extension": ".py",
   "mimetype": "text/x-python",
   "name": "python",
   "nbconvert_exporter": "python",
   "pygments_lexer": "ipython3",
   "version": "3.11.6"
  }
 },
 "nbformat": 4,
 "nbformat_minor": 2
}
